{
 "cells": [
  {
   "cell_type": "code",
   "execution_count": 67,
   "metadata": {},
   "outputs": [],
   "source": [
    "from pathlib import Path\n",
    "from typing import Dict\n",
    "import shutil\n",
    "import fileinput\n",
    "\n",
    "import tabula\n",
    "import pandas as pd\n",
    "from tabula.template import load_template"
   ]
  },
  {
   "cell_type": "code",
   "execution_count": 15,
   "metadata": {},
   "outputs": [],
   "source": [
    "PDF_FILE = \"../data/pdfs/studis_fach/studis_fach-2010-winter.pdf\"\n",
    "ANNOTATION_JSON = Path(\"../data/annotations/tabula-2010-winter-studis-fach-abschluss.json\")\n",
    "\n",
    "assert Path(PDF_FILE).is_file()\n",
    "assert Path(ANNOTATION_JSON).is_file()"
   ]
  },
  {
   "cell_type": "code",
   "execution_count": 79,
   "metadata": {},
   "outputs": [],
   "source": [
    "ANNOTATION_DIR = Path(\"../annotations/\")\n",
    "PDFS_DIR = Path(\"../data/pdfs/studis_fach/\")"
   ]
  },
  {
   "cell_type": "code",
   "execution_count": 89,
   "metadata": {},
   "outputs": [
    {
     "data": {
      "text/plain": [
       "PosixPath('../data/pdfs/studis_fach')"
      ]
     },
     "execution_count": 89,
     "metadata": {},
     "output_type": "execute_result"
    }
   ],
   "source": [
    "PDFS_DIR"
   ]
  },
  {
   "cell_type": "code",
   "execution_count": 90,
   "metadata": {},
   "outputs": [],
   "source": [
    "x = sorted(list(ANNOTATION_DIR.glob(\"*.json\")))"
   ]
  },
  {
   "cell_type": "code",
   "execution_count": 91,
   "metadata": {},
   "outputs": [
    {
     "data": {
      "text/plain": [
       "True"
      ]
     },
     "execution_count": 91,
     "metadata": {},
     "output_type": "execute_result"
    }
   ],
   "source": [
    "Path('../annotations/studis_fach-2007-sommer.json') in x"
   ]
  },
  {
   "cell_type": "code",
   "execution_count": 87,
   "metadata": {},
   "outputs": [
    {
     "data": {
      "text/plain": [
       "[PosixPath('../data/pdfs/studis_fach/studis_fach-2007-sommer.pdf'),\n",
       " PosixPath('../data/pdfs/studis_fach/studis_fach-2007-winter.pdf'),\n",
       " PosixPath('../data/pdfs/studis_fach/studis_fach-2008-sommer.pdf'),\n",
       " PosixPath('../data/pdfs/studis_fach/studis_fach-2008-winter.pdf'),\n",
       " PosixPath('../data/pdfs/studis_fach/studis_fach-2009-sommer.pdf'),\n",
       " PosixPath('../data/pdfs/studis_fach/studis_fach-2009-winter.pdf'),\n",
       " PosixPath('../data/pdfs/studis_fach/studis_fach-2010-sommer.pdf'),\n",
       " PosixPath('../data/pdfs/studis_fach/studis_fach-2010-winter.pdf'),\n",
       " PosixPath('../data/pdfs/studis_fach/studis_fach-2011-sommer.pdf'),\n",
       " PosixPath('../data/pdfs/studis_fach/studis_fach-2011-winter.pdf'),\n",
       " PosixPath('../data/pdfs/studis_fach/studis_fach-2012-sommer.pdf'),\n",
       " PosixPath('../data/pdfs/studis_fach/studis_fach-2012-winter.pdf'),\n",
       " PosixPath('../data/pdfs/studis_fach/studis_fach-2013-sommer.pdf'),\n",
       " PosixPath('../data/pdfs/studis_fach/studis_fach-2013-winter.pdf'),\n",
       " PosixPath('../data/pdfs/studis_fach/studis_fach-2014-sommer.pdf'),\n",
       " PosixPath('../data/pdfs/studis_fach/studis_fach-2014-winter.pdf'),\n",
       " PosixPath('../data/pdfs/studis_fach/studis_fach-2015-sommer.pdf'),\n",
       " PosixPath('../data/pdfs/studis_fach/studis_fach-2015-winter.pdf'),\n",
       " PosixPath('../data/pdfs/studis_fach/studis_fach-2016-sommer.pdf'),\n",
       " PosixPath('../data/pdfs/studis_fach/studis_fach-2016-winter.pdf'),\n",
       " PosixPath('../data/pdfs/studis_fach/studis_fach-2017-sommer.pdf'),\n",
       " PosixPath('../data/pdfs/studis_fach/studis_fach-2017-winter.pdf'),\n",
       " PosixPath('../data/pdfs/studis_fach/studis_fach-2018-sommer.pdf'),\n",
       " PosixPath('../data/pdfs/studis_fach/studis_fach-2018-winter.pdf')]"
      ]
     },
     "execution_count": 87,
     "metadata": {},
     "output_type": "execute_result"
    }
   ],
   "source": [
    "sorted(list(PDFS_DIR.glob(\"*.pdf\")))"
   ]
  },
  {
   "cell_type": "code",
   "execution_count": 39,
   "metadata": {},
   "outputs": [],
   "source": [
    "options = load_template(str(ANNOTATION_JSON))"
   ]
  },
  {
   "cell_type": "code",
   "execution_count": 43,
   "metadata": {},
   "outputs": [],
   "source": [
    "tabula.convert_into(PDF_FILE, \"out.csv\", guess=False, output_format=\"csv\", **options[0])"
   ]
  },
  {
   "cell_type": "code",
   "execution_count": 73,
   "metadata": {},
   "outputs": [],
   "source": [
    "def convert_page_df(pdf_file, csv_file, options: Dict) -> None:\n",
    "    tabula.convert_into(PDF_FILE, csv_file, guess=False, output_format=\"csv\", **options)"
   ]
  },
  {
   "cell_type": "code",
   "execution_count": null,
   "metadata": {},
   "outputs": [],
   "source": []
  },
  {
   "cell_type": "code",
   "execution_count": 76,
   "metadata": {},
   "outputs": [],
   "source": [
    "def convert_pdf_with_annotation(pdf_file: Path, annotation_file: Path, csv_file: Path):\n",
    "    assert csv_file.suffix == \".csv\"\n",
    "    options = load_template(str(annotation_file))\n",
    "    \n",
    "    tmp_dir = Path(\".tmp\")\n",
    "    tmp_dir.mkdir(exist_ok=True)\n",
    "    tmp_csv_files: List[Path] = [tmp_dir / f\"{csv_file.stem}-{i}.csv\" for i in range(len(options))]\n",
    "    \n",
    "    for page_options, tmp_csv_file in zip(options, tmp_csv_files):\n",
    "        convert_page_df(str(pdf_file), str(tmp_csv_file), page_options)\n",
    "        \n",
    "    with csv_file.open(mode=\"w\") as f:\n",
    "        for line in fileinput.input(tmp_csv_files):\n",
    "            f.write(line)\n",
    "    \n",
    "    shutil.rmtree(\".tmp\")\n",
    "    "
   ]
  },
  {
   "cell_type": "code",
   "execution_count": 78,
   "metadata": {},
   "outputs": [],
   "source": [
    "convert_pdf_with_annotation(Path(PDF_FILE), ANNOTATION_JSON, Path(\"test.csv\"))"
   ]
  }
 ],
 "metadata": {
  "kernelspec": {
   "display_name": "Python 3",
   "language": "python",
   "name": "python3"
  },
  "language_info": {
   "codemirror_mode": {
    "name": "ipython",
    "version": 3
   },
   "file_extension": ".py",
   "mimetype": "text/x-python",
   "name": "python",
   "nbconvert_exporter": "python",
   "pygments_lexer": "ipython3",
   "version": "3.7.3"
  }
 },
 "nbformat": 4,
 "nbformat_minor": 2
}
