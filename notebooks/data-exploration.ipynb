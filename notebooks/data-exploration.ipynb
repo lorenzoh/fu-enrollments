{
 "cells": [
  {
   "cell_type": "code",
   "execution_count": 3,
   "metadata": {},
   "outputs": [],
   "source": [
    "from typing import List\n",
    "from pathlib import Path\n",
    "import pandas as pd\n",
    "%matplotlib inline\n",
    "import plotly.graph_objs as go\n",
    "from plotly.offline import download_plotlyjs, init_notebook_mode, plot, iplot\n",
    "\n",
    "import plotly_express as px\n",
    "\n",
    "init_notebook_mode()"
   ]
  },
  {
   "cell_type": "code",
   "execution_count": 6,
   "metadata": {},
   "outputs": [],
   "source": [
    "CSV_PATH = Path(\"../data/csvs/studis.csv\")"
   ]
  },
  {
   "cell_type": "code",
   "execution_count": 7,
   "metadata": {},
   "outputs": [],
   "source": [
    "df = pd.read_csv(CSV_PATH)"
   ]
  },
  {
   "cell_type": "code",
   "execution_count": 47,
   "metadata": {},
   "outputs": [],
   "source": [
    "## Feature engineering\n",
    "\n",
    "# pctg gender\n",
    "df[\"pctg_female\"] = df.n_women / df.n_total"
   ]
  },
  {
   "cell_type": "code",
   "execution_count": 48,
   "metadata": {},
   "outputs": [
    {
     "data": {
      "text/plain": [
       "array(['sommer2016', 'sommer2018', 'sommer2017', 'winter2016',\n",
       "       'winter2018', 'winter2017'], dtype=object)"
      ]
     },
     "execution_count": 48,
     "metadata": {},
     "output_type": "execute_result"
    }
   ],
   "source": [
    "df.semester.unique()"
   ]
  },
  {
   "cell_type": "markdown",
   "metadata": {},
   "source": [
    "# Select common bachelors and master"
   ]
  },
  {
   "cell_type": "code",
   "execution_count": 49,
   "metadata": {},
   "outputs": [],
   "source": [
    "THRESHOLD_BACHELOR = 50\n",
    "SEMESTER = \"winter2018\""
   ]
  },
  {
   "cell_type": "code",
   "execution_count": 50,
   "metadata": {},
   "outputs": [],
   "source": [
    "df_bachelor = df[\n",
    "    (df.degree == \"Bachelor\") &\n",
    "    (df.semester == SEMESTER) &\n",
    "    (df.n_total >= THRESHOLD_BACHELOR)\n",
    "]"
   ]
  },
  {
   "cell_type": "code",
   "execution_count": 51,
   "metadata": {},
   "outputs": [
    {
     "data": {
      "text/plain": [
       "<matplotlib.axes._subplots.AxesSubplot at 0x7fda1f6e6390>"
      ]
     },
     "execution_count": 51,
     "metadata": {},
     "output_type": "execute_result"
    },
    {
     "data": {
      "image/png": "[encoded data removed]",
      "text/plain": [
       "<Figure size 432x288 with 1 Axes>"
      ]
     },
     "metadata": {
      "needs_background": "light"
     },
     "output_type": "display_data"
    }
   ],
   "source": [
    "df_bachelor.n_total.hist(bins=25)"
   ]
  },
  {
   "cell_type": "code",
   "execution_count": 52,
   "metadata": {},
   "outputs": [],
   "source": [
    "common_subjects = df_bachelor[df_bachelor.n_total >= THRESHOLD_BACHELOR].subject.unique()"
   ]
  },
  {
   "cell_type": "code",
   "execution_count": 68,
   "metadata": {},
   "outputs": [],
   "source": [
    "df_bachelor = df_bachelor.sort_values(by=\"pctg_female\", ascending=False)"
   ]
  },
  {
   "cell_type": "code",
   "execution_count": 69,
   "metadata": {},
   "outputs": [
    {
     "data": {
      "text/html": [
       "<div>\n",
       "<style scoped>\n",
       "    .dataframe tbody tr th:only-of-type {\n",
       "        vertical-align: middle;\n",
       "    }\n",
       "\n",
       "    .dataframe tbody tr th {\n",
       "        vertical-align: top;\n",
       "    }\n",
       "\n",
       "    .dataframe thead th {\n",
       "        text-align: right;\n",
       "    }\n",
       "</style>\n",
       "<table border=\"1\" class=\"dataframe\">\n",
       "  <thead>\n",
       "    <tr style=\"text-align: right;\">\n",
       "      <th></th>\n",
       "      <th>subject</th>\n",
       "      <th>degree</th>\n",
       "      <th>n_total</th>\n",
       "      <th>n_women</th>\n",
       "      <th>n_foreign</th>\n",
       "      <th>sem_0</th>\n",
       "      <th>sem_1</th>\n",
       "      <th>sem_2</th>\n",
       "      <th>sem_3</th>\n",
       "      <th>sem_4</th>\n",
       "      <th>...</th>\n",
       "      <th>sem_8</th>\n",
       "      <th>sem_9</th>\n",
       "      <th>sem_10</th>\n",
       "      <th>sem_11</th>\n",
       "      <th>sem_12</th>\n",
       "      <th>sem_l12</th>\n",
       "      <th>year</th>\n",
       "      <th>season</th>\n",
       "      <th>semester</th>\n",
       "      <th>pctg_female</th>\n",
       "    </tr>\n",
       "  </thead>\n",
       "  <tbody>\n",
       "    <tr>\n",
       "      <th>2583</th>\n",
       "      <td>Pferdewissenschaft</td>\n",
       "      <td>Bachelor</td>\n",
       "      <td>115</td>\n",
       "      <td>113</td>\n",
       "      <td>2</td>\n",
       "      <td>0</td>\n",
       "      <td>30</td>\n",
       "      <td>0</td>\n",
       "      <td>29</td>\n",
       "      <td>0</td>\n",
       "      <td>...</td>\n",
       "      <td>0</td>\n",
       "      <td>12</td>\n",
       "      <td>0</td>\n",
       "      <td>0</td>\n",
       "      <td>0</td>\n",
       "      <td>0</td>\n",
       "      <td>2018</td>\n",
       "      <td>winter</td>\n",
       "      <td>winter2018</td>\n",
       "      <td>0.982609</td>\n",
       "    </tr>\n",
       "    <tr>\n",
       "      <th>2495</th>\n",
       "      <td>Koreastudien/Ostasienwissenschaften</td>\n",
       "      <td>Bachelor</td>\n",
       "      <td>210</td>\n",
       "      <td>172</td>\n",
       "      <td>22</td>\n",
       "      <td>0</td>\n",
       "      <td>68</td>\n",
       "      <td>0</td>\n",
       "      <td>43</td>\n",
       "      <td>2</td>\n",
       "      <td>...</td>\n",
       "      <td>3</td>\n",
       "      <td>21</td>\n",
       "      <td>2</td>\n",
       "      <td>2</td>\n",
       "      <td>2</td>\n",
       "      <td>11</td>\n",
       "      <td>2018</td>\n",
       "      <td>winter</td>\n",
       "      <td>winter2018</td>\n",
       "      <td>0.819048</td>\n",
       "    </tr>\n",
       "    <tr>\n",
       "      <th>2222</th>\n",
       "      <td>Bildungs- und Erziehungswissenschaft</td>\n",
       "      <td>Bachelor</td>\n",
       "      <td>508</td>\n",
       "      <td>406</td>\n",
       "      <td>60</td>\n",
       "      <td>0</td>\n",
       "      <td>118</td>\n",
       "      <td>2</td>\n",
       "      <td>98</td>\n",
       "      <td>3</td>\n",
       "      <td>...</td>\n",
       "      <td>7</td>\n",
       "      <td>30</td>\n",
       "      <td>3</td>\n",
       "      <td>10</td>\n",
       "      <td>2</td>\n",
       "      <td>35</td>\n",
       "      <td>2018</td>\n",
       "      <td>winter</td>\n",
       "      <td>winter2018</td>\n",
       "      <td>0.799213</td>\n",
       "    </tr>\n",
       "    <tr>\n",
       "      <th>2625</th>\n",
       "      <td>Psychologie</td>\n",
       "      <td>Bachelor</td>\n",
       "      <td>639</td>\n",
       "      <td>486</td>\n",
       "      <td>86</td>\n",
       "      <td>0</td>\n",
       "      <td>140</td>\n",
       "      <td>4</td>\n",
       "      <td>124</td>\n",
       "      <td>18</td>\n",
       "      <td>...</td>\n",
       "      <td>9</td>\n",
       "      <td>34</td>\n",
       "      <td>2</td>\n",
       "      <td>20</td>\n",
       "      <td>2</td>\n",
       "      <td>32</td>\n",
       "      <td>2018</td>\n",
       "      <td>winter</td>\n",
       "      <td>winter2018</td>\n",
       "      <td>0.760563</td>\n",
       "    </tr>\n",
       "    <tr>\n",
       "      <th>2403</th>\n",
       "      <td>Geschichte und Kultur des Vorderen Orients mit...</td>\n",
       "      <td>Bachelor</td>\n",
       "      <td>112</td>\n",
       "      <td>79</td>\n",
       "      <td>31</td>\n",
       "      <td>0</td>\n",
       "      <td>30</td>\n",
       "      <td>0</td>\n",
       "      <td>23</td>\n",
       "      <td>0</td>\n",
       "      <td>...</td>\n",
       "      <td>2</td>\n",
       "      <td>10</td>\n",
       "      <td>0</td>\n",
       "      <td>6</td>\n",
       "      <td>2</td>\n",
       "      <td>11</td>\n",
       "      <td>2018</td>\n",
       "      <td>winter</td>\n",
       "      <td>winter2018</td>\n",
       "      <td>0.705357</td>\n",
       "    </tr>\n",
       "  </tbody>\n",
       "</table>\n",
       "<p>5 rows × 23 columns</p>\n",
       "</div>"
      ],
      "text/plain": [
       "                                                subject    degree  n_total  \\\n",
       "2583                                 Pferdewissenschaft  Bachelor      115   \n",
       "2495                Koreastudien/Ostasienwissenschaften  Bachelor      210   \n",
       "2222               Bildungs- und Erziehungswissenschaft  Bachelor      508   \n",
       "2625                                        Psychologie  Bachelor      639   \n",
       "2403  Geschichte und Kultur des Vorderen Orients mit...  Bachelor      112   \n",
       "\n",
       "      n_women  n_foreign  sem_0  sem_1  sem_2  sem_3  sem_4  ...  sem_8  \\\n",
       "2583      113          2      0     30      0     29      0  ...      0   \n",
       "2495      172         22      0     68      0     43      2  ...      3   \n",
       "2222      406         60      0    118      2     98      3  ...      7   \n",
       "2625      486         86      0    140      4    124     18  ...      9   \n",
       "2403       79         31      0     30      0     23      0  ...      2   \n",
       "\n",
       "      sem_9  sem_10  sem_11  sem_12  sem_l12  year  season    semester  \\\n",
       "2583     12       0       0       0        0  2018  winter  winter2018   \n",
       "2495     21       2       2       2       11  2018  winter  winter2018   \n",
       "2222     30       3      10       2       35  2018  winter  winter2018   \n",
       "2625     34       2      20       2       32  2018  winter  winter2018   \n",
       "2403     10       0       6       2       11  2018  winter  winter2018   \n",
       "\n",
       "      pctg_female  \n",
       "2583     0.982609  \n",
       "2495     0.819048  \n",
       "2222     0.799213  \n",
       "2625     0.760563  \n",
       "2403     0.705357  \n",
       "\n",
       "[5 rows x 23 columns]"
      ]
     },
     "execution_count": 69,
     "metadata": {},
     "output_type": "execute_result"
    }
   ],
   "source": [
    "df_bachelor.head()"
   ]
  },
  {
   "cell_type": "code",
   "execution_count": 110,
   "metadata": {},
   "outputs": [
    {
     "data": {
      "text/plain": [
       "array([0.98, 0.82, 0.8 , 0.76, 0.71, 0.69, 0.69, 0.68, 0.67, 0.66, 0.64,\n",
       "       0.62, 0.62, 0.61, 0.6 , 0.58, 0.57, 0.57, 0.53, 0.53, 0.51, 0.5 ,\n",
       "       0.48, 0.46, 0.45, 0.41, 0.41, 0.41, 0.39, 0.38, 0.38, 0.3 , 0.2 ])"
      ]
     },
     "execution_count": 110,
     "metadata": {},
     "output_type": "execute_result"
    }
   ],
   "source": [
    "ys.round(2)"
   ]
  },
  {
   "cell_type": "code",
   "execution_count": 111,
   "metadata": {},
   "outputs": [],
   "source": [
    "labels = df_bachelor.subject.values\n",
    "ys = df_bachelor.pctg_female.values.round(2)\n",
    "widths = df_bachelor.n_total.values + 100\n",
    "\n",
    "xs_left = [0]\n",
    "for width in widths:\n",
    "    xs_left.append(xs_left[-1] + width)\n",
    "xs = [ (a + b) // 2 for (a, b) in zip(xs_left, xs_left[1:])]"
   ]
  },
  {
   "cell_type": "code",
   "execution_count": 112,
   "metadata": {},
   "outputs": [],
   "source": [
    "trace = go.Bar(\n",
    "    x=xs, y=ys, width=widths, text=labels, textposition=\"auto\"\n",
    ")\n",
    "\n",
    "data = [trace]\n",
    "\n",
    "fig = go.Figure(data)"
   ]
  },
  {
   "cell_type": "code",
   "execution_count": 113,
   "metadata": {
    "scrolled": false
   },
   "outputs": [
    {
     "data": {
      "application/vnd.plotly.v1+json": {
       "config": {
        "linkText": "Export to plot.ly",
        "plotlyServerURL": "https://plot.ly",
        "responsive": true,
        "showLink": false
       },
       "data": [
        {
         "text": [
          "Pferdewissenschaft",
          "Koreastudien/Ostasienwissenschaften",
          "Bildungs- und Erziehungswissenschaft",
          "Psychologie",
          "Geschichte und Kultur des Vorderen Orients mit Schwerpunkt:\rTurkologie",
          "Geschichte und Kultur des Vorderen Orients mit Schwerpunkt:\rArabistik",
          "Biologie",
          "EinS@FU: Philosopie und Geisteswissenschaften",
          "Geschichte und Kultur des Vorderen Orients mit Schwerpunkt:\rIslamwissenschaft",
          "EinS@FU: Geschichts- und Kulturwisenschaften",
          "Geschichte und Kultur des Vorderen Orients mit Schwerpunkt:\rIranistik",
          "Altertumswissenschaft mit Schwerpunkt: Klassische\rArchäologie",
          "Chinastudien/Ostasienwissenschaften",
          "Biochemie",
          "Geschichte und Kultur des Vorderen Orients mit Schwerpunkt:\rSemitistik",
          "Japanstudien/Ostasienwissenschaften",
          "Politikwissenschaft - Sciences Sociales",
          "Nordamerikastudien",
          "Altertumswissenschaft mit Schwerpunkt: Ägyptologie",
          "Altertumswissenschaft mit Schwerpunkt: Prähistorische\rArchäologie",
          "EinS@FU: Mathematik und Informatik",
          "Betriebswirtschaftslehre",
          "Politikwissenschaft",
          "Bioinformatik",
          "Medieninformatik",
          "Chemie",
          "Geologische Wissenschaften",
          "Mathematik",
          "Meteorologie",
          "Volkswirtschaftslehre",
          "Geographische Wissenschaften",
          "Physik",
          "Informatik"
         ],
         "textposition": "auto",
         "type": "bar",
         "uid": "30996ad0-d218-4765-9dca-b71bf8dea0e7",
         "width": [
          215,
          310,
          608,
          739,
          212,
          250,
          631,
          178,
          310,
          207,
          211,
          284,
          309,
          341,
          153,
          372,
          203,
          386,
          218,
          233,
          186,
          1195,
          965,
          416,
          318,
          501,
          461,
          628,
          311,
          682,
          562,
          520,
          1008
         ],
         "x": [
          107,
          370,
          829,
          1502,
          1978,
          2209,
          2649,
          3054,
          3298,
          3556,
          3765,
          4013,
          4309,
          4634,
          4881,
          5144,
          5431,
          5726,
          6028,
          6253,
          6463,
          7153,
          8233,
          8924,
          9291,
          9700,
          10181,
          10726,
          11195,
          11692,
          12314,
          12855,
          13619
         ],
         "y": [
          0.98,
          0.82,
          0.8,
          0.76,
          0.71,
          0.69,
          0.69,
          0.68,
          0.67,
          0.66,
          0.64,
          0.62,
          0.62,
          0.61,
          0.6,
          0.58,
          0.57,
          0.57,
          0.53,
          0.53,
          0.51,
          0.5,
          0.48,
          0.46,
          0.45,
          0.41,
          0.41,
          0.41,
          0.39,
          0.38,
          0.38,
          0.3,
          0.2
         ]
        }
       ],
       "layout": {}
      },
      "text/html": [
       "<div>\n",
       "        \n",
       "        \n",
       "            <div id=\"9695c90d-5115-44dc-857d-abf069bc65f6\" class=\"plotly-graph-div\" style=\"height:525px; width:100%;\"></div>\n",
       "            <script type=\"text/javascript\">\n",
       "                require([\"plotly\"], function(Plotly) {\n",
       "                    window.PLOTLYENV=window.PLOTLYENV || {};\n",
       "                    window.PLOTLYENV.BASE_URL='https://plot.ly';\n",
       "                    \n",
       "                if (document.getElementById(\"9695c90d-5115-44dc-857d-abf069bc65f6\")) {\n",
       "                    Plotly.newPlot(\n",
       "                        '9695c90d-5115-44dc-857d-abf069bc65f6',\n",
       "                        [{\"text\": [\"Pferdewissenschaft\", \"Koreastudien/Ostasienwissenschaften\", \"Bildungs- und Erziehungswissenschaft\", \"Psychologie\", \"Geschichte und Kultur des Vorderen Orients mit Schwerpunkt:\\rTurkologie\", \"Geschichte und Kultur des Vorderen Orients mit Schwerpunkt:\\rArabistik\", \"Biologie\", \"EinS@FU: Philosopie und Geisteswissenschaften\", \"Geschichte und Kultur des Vorderen Orients mit Schwerpunkt:\\rIslamwissenschaft\", \"EinS@FU: Geschichts- und Kulturwisenschaften\", \"Geschichte und Kultur des Vorderen Orients mit Schwerpunkt:\\rIranistik\", \"Altertumswissenschaft mit Schwerpunkt: Klassische\\rArch\\u00e4ologie\", \"Chinastudien/Ostasienwissenschaften\", \"Biochemie\", \"Geschichte und Kultur des Vorderen Orients mit Schwerpunkt:\\rSemitistik\", \"Japanstudien/Ostasienwissenschaften\", \"Politikwissenschaft - Sciences Sociales\", \"Nordamerikastudien\", \"Altertumswissenschaft mit Schwerpunkt: \\u00c4gyptologie\", \"Altertumswissenschaft mit Schwerpunkt: Pr\\u00e4historische\\rArch\\u00e4ologie\", \"EinS@FU: Mathematik und Informatik\", \"Betriebswirtschaftslehre\", \"Politikwissenschaft\", \"Bioinformatik\", \"Medieninformatik\", \"Chemie\", \"Geologische Wissenschaften\", \"Mathematik\", \"Meteorologie\", \"Volkswirtschaftslehre\", \"Geographische Wissenschaften\", \"Physik\", \"Informatik\"], \"textposition\": \"auto\", \"type\": \"bar\", \"uid\": \"6f69f5d6-3931-4ee5-8b1e-1bde61d9f782\", \"width\": [215, 310, 608, 739, 212, 250, 631, 178, 310, 207, 211, 284, 309, 341, 153, 372, 203, 386, 218, 233, 186, 1195, 965, 416, 318, 501, 461, 628, 311, 682, 562, 520, 1008], \"x\": [107, 370, 829, 1502, 1978, 2209, 2649, 3054, 3298, 3556, 3765, 4013, 4309, 4634, 4881, 5144, 5431, 5726, 6028, 6253, 6463, 7153, 8233, 8924, 9291, 9700, 10181, 10726, 11195, 11692, 12314, 12855, 13619], \"y\": [0.98, 0.82, 0.8, 0.76, 0.71, 0.69, 0.69, 0.68, 0.67, 0.66, 0.64, 0.62, 0.62, 0.61, 0.6, 0.58, 0.57, 0.57, 0.53, 0.53, 0.51, 0.5, 0.48, 0.46, 0.45, 0.41, 0.41, 0.41, 0.39, 0.38, 0.38, 0.3, 0.2]}],\n",
       "                        {},\n",
       "                        {\"showLink\": false, \"linkText\": \"Export to plot.ly\", \"plotlyServerURL\": \"https://plot.ly\", \"responsive\": true}\n",
       "                    ).then(function(){\n",
       "                            \n",
       "var gd = document.getElementById('9695c90d-5115-44dc-857d-abf069bc65f6');\n",
       "var x = new MutationObserver(function (mutations, observer) {{\n",
       "        var display = window.getComputedStyle(gd).display;\n",
       "        if (!display || display === 'none') {{\n",
       "            console.log([gd, 'removed!']);\n",
       "            Plotly.purge(gd);\n",
       "            observer.disconnect();\n",
       "        }}\n",
       "}});\n",
       "\n",
       "// Listen for the removal of the full notebook cells\n",
       "var notebookContainer = gd.closest('#notebook-container');\n",
       "if (notebookContainer) {{\n",
       "    x.observe(notebookContainer, {childList: true});\n",
       "}}\n",
       "\n",
       "// Listen for the clearing of the current output cell\n",
       "var outputEl = gd.closest('.output');\n",
       "if (outputEl) {{\n",
       "    x.observe(outputEl, {childList: true});\n",
       "}}\n",
       "\n",
       "                        })\n",
       "                };\n",
       "                });\n",
       "            </script>\n",
       "        </div>"
      ]
     },
     "metadata": {},
     "output_type": "display_data"
    }
   ],
   "source": [
    "iplot(fig)"
   ]
  },
  {
   "cell_type": "code",
   "execution_count": 95,
   "metadata": {},
   "outputs": [],
   "source": [
    "?go.Bar"
   ]
  },
  {
   "cell_type": "markdown",
   "metadata": {},
   "source": [
    "\n",
    "\n",
    "\n",
    "\n",
    "\n",
    "\n",
    "\n",
    "\n",
    "\n",
    "\n",
    "\n",
    "\n",
    "\n",
    "\n",
    "\n",
    "\n",
    "\n",
    "\n",
    "\n",
    "\n",
    "\n",
    "\n",
    "\n",
    "\n",
    "\n",
    "\n",
    "\n",
    "\n",
    "\n",
    "\n",
    "\n",
    "\n",
    "\n"
   ]
  },
  {
   "cell_type": "code",
   "execution_count": 42,
   "metadata": {},
   "outputs": [],
   "source": [
    "COMMON_DEGREES = ['Staatsexamen', 'Abschl.außerh.Deutschland',\n",
    "       'LA Bachelor ISS und Gym.', 'Promotion', 'Mehr-Fächer-Bachelor',\n",
    "       'Master', 'Bachelor']"
   ]
  },
  {
   "cell_type": "code",
   "execution_count": 43,
   "metadata": {},
   "outputs": [],
   "source": [
    "df = df[df.degree.isin(COMMON_DEGREES)]"
   ]
  },
  {
   "cell_type": "code",
   "execution_count": 62,
   "metadata": {},
   "outputs": [],
   "source": [
    "SEMESTER_ORDER = [\"sommer2016\", \"winter2016\", \"sommer2017\", \"winter2017\", \"sommer2018\", \"winter2018\"]"
   ]
  },
  {
   "cell_type": "code",
   "execution_count": 63,
   "metadata": {},
   "outputs": [],
   "source": [
    "df[\"sem_index\"] = df.semester.apply(lambda sem: SEMESTER_ORDER.index(sem))"
   ]
  },
  {
   "cell_type": "code",
   "execution_count": 78,
   "metadata": {
    "scrolled": true
   },
   "outputs": [
    {
     "data": {
      "application/vnd.plotly.v1+json": {
       "config": {
        "linkText": "Export to plot.ly",
        "plotlyServerURL": "https://plot.ly",
        "responsive": true,
        "showLink": false
       },
       "data": [
        {
         "hoverlabel": {
          "namelength": 0
         },
         "hovertemplate": "<b>%{hovertext}</b><br><br>degree=Mehr-Fächer-Bachelor<br>subject=Allgemeine und vergleichende Literaturwissenschaft<br>sem_index=%{x}<br>pctg_female=%{y}",
         "hovertext": [
          "Allgemeine und vergleichende Literaturwissenschaft",
          "Allgemeine und vergleichende Literaturwissenschaft",
          "Allgemeine und vergleichende Literaturwissenschaft",
          "Allgemeine und vergleichende Literaturwissenschaft",
          "Allgemeine und vergleichende Literaturwissenschaft",
          "Allgemeine und vergleichende Literaturwissenschaft"
         ],
         "legendgroup": "degree=Mehr-Fächer-Bachelor",
         "line": {
          "color": "#636efa",
          "dash": "solid",
          "shape": "spline"
         },
         "mode": "lines",
         "name": "degree=Mehr-Fächer-Bachelor",
         "showlegend": true,
         "type": "scatter",
         "uid": "6c04d4d8-caa7-427c-92c9-777eb8ca8eeb",
         "x": [
          0,
          1,
          2,
          3,
          4,
          5
         ],
         "xaxis": "x",
         "y": [
          0.7510548523206751,
          0.7565543071161048,
          0.7540322580645161,
          0.7568627450980392,
          0.7627118644067796,
          0.7558139534883721
         ],
         "yaxis": "y"
        },
        {
         "hoverlabel": {
          "namelength": 0
         },
         "hovertemplate": "<b>%{hovertext}</b><br><br>degree=Mehr-Fächer-Bachelor<br>subject=Philosophie<br>sem_index=%{x}<br>pctg_female=%{y}",
         "hovertext": [
          "Philosophie",
          "Philosophie",
          "Philosophie",
          "Philosophie",
          "Philosophie",
          "Philosophie"
         ],
         "legendgroup": "degree=Mehr-Fächer-Bachelor",
         "line": {
          "color": "#636efa",
          "dash": "solid",
          "shape": "spline"
         },
         "mode": "lines",
         "name": "degree=Mehr-Fächer-Bachelor",
         "showlegend": false,
         "type": "scatter",
         "uid": "b1d4132b-3a2f-45b5-bef2-4bd4edfa0cc3",
         "x": [
          0,
          1,
          2,
          3,
          4,
          5
         ],
         "xaxis": "x",
         "y": [
          0.4157303370786517,
          0.4032258064516129,
          0.4005524861878453,
          0.4094488188976378,
          0.41260744985673353,
          0.41411042944785276
         ],
         "yaxis": "y"
        },
        {
         "hoverlabel": {
          "namelength": 0
         },
         "hovertemplate": "<b>%{hovertext}</b><br><br>degree=Mehr-Fächer-Bachelor<br>subject=Kunstgeschichte mit dem Schwerpunkt Europa und Amerika<br>sem_index=%{x}<br>pctg_female=%{y}",
         "hovertext": [
          "Kunstgeschichte mit dem Schwerpunkt Europa und Amerika",
          "Kunstgeschichte mit dem Schwerpunkt Europa und Amerika",
          "Kunstgeschichte mit dem Schwerpunkt Europa und Amerika",
          "Kunstgeschichte mit dem Schwerpunkt Europa und Amerika",
          "Kunstgeschichte mit dem Schwerpunkt Europa und Amerika",
          "Kunstgeschichte mit dem Schwerpunkt Europa und Amerika"
         ],
         "legendgroup": "degree=Mehr-Fächer-Bachelor",
         "line": {
          "color": "#636efa",
          "dash": "solid",
          "shape": "spline"
         },
         "mode": "lines",
         "name": "degree=Mehr-Fächer-Bachelor",
         "showlegend": false,
         "type": "scatter",
         "uid": "b5eec44c-96e1-4b60-ab98-b47030c017fd",
         "x": [
          0,
          1,
          2,
          3,
          4,
          5
         ],
         "xaxis": "x",
         "y": [
          0.8091106290672451,
          0.7983539094650206,
          0.8013100436681223,
          0.8020618556701031,
          0.7995594713656388,
          0.8103448275862069
         ],
         "yaxis": "y"
        },
        {
         "hoverlabel": {
          "namelength": 0
         },
         "hovertemplate": "<b>%{hovertext}</b><br><br>degree=Mehr-Fächer-Bachelor<br>subject=Sozial- und Kulturanthropologie<br>sem_index=%{x}<br>pctg_female=%{y}",
         "hovertext": [
          "Sozial- und Kulturanthropologie",
          "Sozial- und Kulturanthropologie",
          "Sozial- und Kulturanthropologie",
          "Sozial- und Kulturanthropologie",
          "Sozial- und Kulturanthropologie",
          "Sozial- und Kulturanthropologie"
         ],
         "legendgroup": "degree=Mehr-Fächer-Bachelor",
         "line": {
          "color": "#636efa",
          "dash": "solid",
          "shape": "spline"
         },
         "mode": "lines",
         "name": "degree=Mehr-Fächer-Bachelor",
         "showlegend": false,
         "type": "scatter",
         "uid": "947c6b89-27be-45a0-9bf7-325d1cf5c8f7",
         "x": [
          0,
          1,
          2,
          3,
          4,
          5
         ],
         "xaxis": "x",
         "y": [
          0.8241042345276873,
          0.821875,
          0.8295081967213115,
          0.8218390804597702,
          0.7552870090634441,
          0.7994350282485876
         ],
         "yaxis": "y"
        },
        {
         "hoverlabel": {
          "namelength": 0
         },
         "hovertemplate": "<b>%{hovertext}</b><br><br>degree=Mehr-Fächer-Bachelor<br>subject=Theaterwissenschaft<br>sem_index=%{x}<br>pctg_female=%{y}",
         "hovertext": [
          "Theaterwissenschaft",
          "Theaterwissenschaft",
          "Theaterwissenschaft",
          "Theaterwissenschaft",
          "Theaterwissenschaft",
          "Theaterwissenschaft"
         ],
         "legendgroup": "degree=Mehr-Fächer-Bachelor",
         "line": {
          "color": "#636efa",
          "dash": "solid",
          "shape": "spline"
         },
         "mode": "lines",
         "name": "degree=Mehr-Fächer-Bachelor",
         "showlegend": false,
         "type": "scatter",
         "uid": "b22be4c0-6756-4ac7-8885-7148bfcf5016",
         "x": [
          0,
          1,
          2,
          3,
          4,
          5
         ],
         "xaxis": "x",
         "y": [
          0.7634961439588689,
          0.7567567567567568,
          0.7578125,
          0.7692307692307693,
          0.7655860349127181,
          0.8276699029126213
         ],
         "yaxis": "y"
        },
        {
         "hoverlabel": {
          "namelength": 0
         },
         "hovertemplate": "<b>%{hovertext}</b><br><br>degree=Mehr-Fächer-Bachelor<br>subject=Publizistik und Kommunikationswissenschaft<br>sem_index=%{x}<br>pctg_female=%{y}",
         "hovertext": [
          "Publizistik und Kommunikationswissenschaft",
          "Publizistik und Kommunikationswissenschaft",
          "Publizistik und Kommunikationswissenschaft",
          "Publizistik und Kommunikationswissenschaft",
          "Publizistik und Kommunikationswissenschaft",
          "Publizistik und Kommunikationswissenschaft"
         ],
         "legendgroup": "degree=Mehr-Fächer-Bachelor",
         "line": {
          "color": "#636efa",
          "dash": "solid",
          "shape": "spline"
         },
         "mode": "lines",
         "name": "degree=Mehr-Fächer-Bachelor",
         "showlegend": false,
         "type": "scatter",
         "uid": "56ea9c37-ce2e-4dee-ae3c-73de64bd36f5",
         "x": [
          0,
          1,
          2,
          3,
          4,
          5
         ],
         "xaxis": "x",
         "y": [
          0.738819320214669,
          0.7308377896613191,
          0.720703125,
          0.6974169741697417,
          0.682261208576998,
          0.7109515260323159
         ],
         "yaxis": "y"
        },
        {
         "hoverlabel": {
          "namelength": 0
         },
         "hovertemplate": "<b>%{hovertext}</b><br><br>degree=Mehr-Fächer-Bachelor<br>subject=Filmwissenschaft<br>sem_index=%{x}<br>pctg_female=%{y}",
         "hovertext": [
          "Filmwissenschaft",
          "Filmwissenschaft",
          "Filmwissenschaft",
          "Filmwissenschaft",
          "Filmwissenschaft",
          "Filmwissenschaft"
         ],
         "legendgroup": "degree=Mehr-Fächer-Bachelor",
         "line": {
          "color": "#636efa",
          "dash": "solid",
          "shape": "spline"
         },
         "mode": "lines",
         "name": "degree=Mehr-Fächer-Bachelor",
         "showlegend": false,
         "type": "scatter",
         "uid": "c4a99ba9-ffe4-4a21-a876-78a60740d7ef",
         "x": [
          0,
          1,
          2,
          3,
          4,
          5
         ],
         "xaxis": "x",
         "y": [
          0.645021645021645,
          0.6224899598393574,
          0.6182572614107884,
          0.5917602996254682,
          0.5849802371541502,
          0.5566343042071198
         ],
         "yaxis": "y"
        },
        {
         "hoverlabel": {
          "namelength": 0
         },
         "hovertemplate": "<b>%{hovertext}</b><br><br>degree=Mehr-Fächer-Bachelor<br>subject=Geschichte<br>sem_index=%{x}<br>pctg_female=%{y}",
         "hovertext": [
          "Geschichte",
          "Geschichte",
          "Geschichte",
          "Geschichte",
          "Geschichte",
          "Geschichte"
         ],
         "legendgroup": "degree=Mehr-Fächer-Bachelor",
         "line": {
          "color": "#636efa",
          "dash": "solid",
          "shape": "spline"
         },
         "mode": "lines",
         "name": "degree=Mehr-Fächer-Bachelor",
         "showlegend": false,
         "type": "scatter",
         "uid": "c0b236ee-0c97-4a35-8cbf-61de1d5576e6",
         "x": [
          0,
          1,
          2,
          3,
          4,
          5
         ],
         "xaxis": "x",
         "y": [
          0.43768115942028984,
          0.45403899721448465,
          0.4551083591331269,
          0.4581005586592179,
          0.4597014925373134,
          0.4657534246575342
         ],
         "yaxis": "y"
        },
        {
         "hoverlabel": {
          "namelength": 0
         },
         "hovertemplate": "<b>%{hovertext}</b><br><br>degree=Mehr-Fächer-Bachelor<br>subject=Deutsch / Deutsche Philologie<br>sem_index=%{x}<br>pctg_female=%{y}",
         "hovertext": [
          "Deutsch / Deutsche Philologie",
          "Deutsch / Deutsche Philologie",
          "Deutsch / Deutsche Philologie",
          "Deutsch / Deutsche Philologie",
          "Deutsch / Deutsche Philologie",
          "Deutsch / Deutsche Philologie"
         ],
         "legendgroup": "degree=Mehr-Fächer-Bachelor",
         "line": {
          "color": "#636efa",
          "dash": "solid",
          "shape": "spline"
         },
         "mode": "lines",
         "name": "degree=Mehr-Fächer-Bachelor",
         "showlegend": false,
         "type": "scatter",
         "uid": "8b063aee-7705-42f0-8b26-c8b139a04517",
         "x": [
          0,
          1,
          2,
          3,
          4,
          5
         ],
         "xaxis": "x",
         "y": [
          0.7682926829268293,
          0.8005865102639296,
          0.8132911392405063,
          0.8103448275862069,
          0.8082706766917294,
          0.7946768060836502
         ],
         "yaxis": "y"
        },
        {
         "hoverlabel": {
          "namelength": 0
         },
         "hovertemplate": "<b>%{hovertext}</b><br><br>degree=Mehr-Fächer-Bachelor<br>subject=Englisch / Englische Philologie<br>sem_index=%{x}<br>pctg_female=%{y}",
         "hovertext": [
          "Englisch / Englische Philologie"
         ],
         "legendgroup": "degree=Mehr-Fächer-Bachelor",
         "line": {
          "color": "#636efa",
          "dash": "solid",
          "shape": "spline"
         },
         "mode": "lines",
         "name": "degree=Mehr-Fächer-Bachelor",
         "showlegend": false,
         "type": "scatter",
         "uid": "a23f2423-12bc-459f-b880-5136de08625e",
         "x": [
          5
         ],
         "xaxis": "x",
         "y": [
          0.8104265402843602
         ],
         "yaxis": "y"
        },
        {
         "hoverlabel": {
          "namelength": 0
         },
         "hovertemplate": "<b>%{hovertext}</b><br><br>degree=Bachelor<br>subject=Mathematik<br>sem_index=%{x}<br>pctg_female=%{y}",
         "hovertext": [
          "Mathematik",
          "Mathematik",
          "Mathematik",
          "Mathematik",
          "Mathematik",
          "Mathematik"
         ],
         "legendgroup": "degree=Bachelor",
         "line": {
          "color": "#EF553B",
          "dash": "solid",
          "shape": "spline"
         },
         "mode": "lines",
         "name": "degree=Bachelor",
         "showlegend": true,
         "type": "scatter",
         "uid": "a7cee513-eb43-4cbf-b97e-044dd9737cef",
         "x": [
          0,
          1,
          2,
          3,
          4,
          5
         ],
         "xaxis": "x",
         "y": [
          0.39816933638443935,
          0.3987473903966597,
          0.3870192307692308,
          0.4307400379506641,
          0.3977272727272727,
          0.4053030303030303
         ],
         "yaxis": "y"
        },
        {
         "hoverlabel": {
          "namelength": 0
         },
         "hovertemplate": "<b>%{hovertext}</b><br><br>degree=Bachelor<br>subject=Nordamerikastudien<br>sem_index=%{x}<br>pctg_female=%{y}",
         "hovertext": [
          "Nordamerikastudien",
          "Nordamerikastudien",
          "Nordamerikastudien",
          "Nordamerikastudien",
          "Nordamerikastudien"
         ],
         "legendgroup": "degree=Bachelor",
         "line": {
          "color": "#EF553B",
          "dash": "solid",
          "shape": "spline"
         },
         "mode": "lines",
         "name": "degree=Bachelor",
         "showlegend": false,
         "type": "scatter",
         "uid": "b3d8a8a4-f7aa-42e2-a004-5bbfaa424fb1",
         "x": [
          1,
          2,
          3,
          4,
          5
         ],
         "xaxis": "x",
         "y": [
          0.6213592233009708,
          0.645320197044335,
          0.5946969696969697,
          0.5896414342629482,
          0.5699300699300699
         ],
         "yaxis": "y"
        },
        {
         "hoverlabel": {
          "namelength": 0
         },
         "hovertemplate": "<b>%{hovertext}</b><br><br>degree=Bachelor<br>subject=Physik<br>sem_index=%{x}<br>pctg_female=%{y}",
         "hovertext": [
          "Physik",
          "Physik",
          "Physik",
          "Physik",
          "Physik",
          "Physik"
         ],
         "legendgroup": "degree=Bachelor",
         "line": {
          "color": "#EF553B",
          "dash": "solid",
          "shape": "spline"
         },
         "mode": "lines",
         "name": "degree=Bachelor",
         "showlegend": false,
         "type": "scatter",
         "uid": "07f4a5c5-d463-43ec-8294-d16b145f3db4",
         "x": [
          0,
          1,
          2,
          3,
          4,
          5
         ],
         "xaxis": "x",
         "y": [
          0.28823529411764703,
          0.27586206896551724,
          0.2852852852852853,
          0.3125,
          0.28851540616246496,
          0.3
         ],
         "yaxis": "y"
        },
        {
         "hoverlabel": {
          "namelength": 0
         },
         "hovertemplate": "<b>%{hovertext}</b><br><br>degree=Bachelor<br>subject=Politikwissenschaft<br>sem_index=%{x}<br>pctg_female=%{y}",
         "hovertext": [
          "Politikwissenschaft",
          "Politikwissenschaft",
          "Politikwissenschaft",
          "Politikwissenschaft",
          "Politikwissenschaft",
          "Politikwissenschaft"
         ],
         "legendgroup": "degree=Bachelor",
         "line": {
          "color": "#EF553B",
          "dash": "solid",
          "shape": "spline"
         },
         "mode": "lines",
         "name": "degree=Bachelor",
         "showlegend": false,
         "type": "scatter",
         "uid": "e1e48963-374b-4538-961e-be31ca76af05",
         "x": [
          0,
          1,
          2,
          3,
          4,
          5
         ],
         "xaxis": "x",
         "y": [
          0.4733009708737864,
          0.48252536640360766,
          0.47919143876337694,
          0.4845360824742268,
          0.48964677222898906,
          0.484393063583815
         ],
         "yaxis": "y"
        },
        {
         "hoverlabel": {
          "namelength": 0
         },
         "hovertemplate": "<b>%{hovertext}</b><br><br>degree=Bachelor<br>subject=Volkswirtschaftslehre<br>sem_index=%{x}<br>pctg_female=%{y}",
         "hovertext": [
          "Volkswirtschaftslehre",
          "Volkswirtschaftslehre",
          "Volkswirtschaftslehre",
          "Volkswirtschaftslehre",
          "Volkswirtschaftslehre",
          "Volkswirtschaftslehre"
         ],
         "legendgroup": "degree=Bachelor",
         "line": {
          "color": "#EF553B",
          "dash": "solid",
          "shape": "spline"
         },
         "mode": "lines",
         "name": "degree=Bachelor",
         "showlegend": false,
         "type": "scatter",
         "uid": "f25cd0e4-4e0c-41c7-9492-8742654e27db",
         "x": [
          0,
          1,
          2,
          3,
          4,
          5
         ],
         "xaxis": "x",
         "y": [
          0.3471933471933472,
          0.3474576271186441,
          0.337037037037037,
          0.3486529318541997,
          0.3479020979020979,
          0.3848797250859107
         ],
         "yaxis": "y"
        },
        {
         "hoverlabel": {
          "namelength": 0
         },
         "hovertemplate": "<b>%{hovertext}</b><br><br>degree=Bachelor<br>subject=Psychologie<br>sem_index=%{x}<br>pctg_female=%{y}",
         "hovertext": [
          "Psychologie",
          "Psychologie",
          "Psychologie",
          "Psychologie",
          "Psychologie",
          "Psychologie"
         ],
         "legendgroup": "degree=Bachelor",
         "line": {
          "color": "#EF553B",
          "dash": "solid",
          "shape": "spline"
         },
         "mode": "lines",
         "name": "degree=Bachelor",
         "showlegend": false,
         "type": "scatter",
         "uid": "b052d3f6-6698-4686-bd6c-b09823d20e9d",
         "x": [
          0,
          1,
          2,
          3,
          4,
          5
         ],
         "xaxis": "x",
         "y": [
          0.7676579925650557,
          0.7692307692307693,
          0.7621527777777778,
          0.7616099071207431,
          0.7569331158238173,
          0.7605633802816901
         ],
         "yaxis": "y"
        },
        {
         "hoverlabel": {
          "namelength": 0
         },
         "hovertemplate": "<b>%{hovertext}</b><br><br>degree=Bachelor<br>subject=Japanstudien/Ostasienwissenschaften<br>sem_index=%{x}<br>pctg_female=%{y}",
         "hovertext": [
          "Japanstudien/Ostasienwissenschaften",
          "Japanstudien/Ostasienwissenschaften",
          "Japanstudien/Ostasienwissenschaften",
          "Japanstudien/Ostasienwissenschaften",
          "Japanstudien/Ostasienwissenschaften",
          "Japanstudien/Ostasienwissenschaften"
         ],
         "legendgroup": "degree=Bachelor",
         "line": {
          "color": "#EF553B",
          "dash": "solid",
          "shape": "spline"
         },
         "mode": "lines",
         "name": "degree=Bachelor",
         "showlegend": false,
         "type": "scatter",
         "uid": "45aee067-25cd-4aee-8c45-474c6b19638e",
         "x": [
          0,
          1,
          2,
          3,
          4,
          5
         ],
         "xaxis": "x",
         "y": [
          0.6133333333333333,
          0.6284584980237155,
          0.6475770925110133,
          0.6302816901408451,
          0.6341463414634146,
          0.5845588235294118
         ],
         "yaxis": "y"
        },
        {
         "hoverlabel": {
          "namelength": 0
         },
         "hovertemplate": "<b>%{hovertext}</b><br><br>degree=Bachelor<br>subject=Betriebswirtschaftslehre<br>sem_index=%{x}<br>pctg_female=%{y}",
         "hovertext": [
          "Betriebswirtschaftslehre",
          "Betriebswirtschaftslehre",
          "Betriebswirtschaftslehre",
          "Betriebswirtschaftslehre",
          "Betriebswirtschaftslehre",
          "Betriebswirtschaftslehre"
         ],
         "legendgroup": "degree=Bachelor",
         "line": {
          "color": "#EF553B",
          "dash": "solid",
          "shape": "spline"
         },
         "mode": "lines",
         "name": "degree=Bachelor",
         "showlegend": false,
         "type": "scatter",
         "uid": "10e4b7e7-846f-4fa2-8cb1-9822707de43e",
         "x": [
          0,
          1,
          2,
          3,
          4,
          5
         ],
         "xaxis": "x",
         "y": [
          0.5472103004291845,
          0.53515625,
          0.5334018499486125,
          0.5195424213536701,
          0.5119418483904465,
          0.4968036529680365
         ],
         "yaxis": "y"
        },
        {
         "hoverlabel": {
          "namelength": 0
         },
         "hovertemplate": "<b>%{hovertext}</b><br><br>degree=Bachelor<br>subject=Bildungs- und Erziehungswissenschaft<br>sem_index=%{x}<br>pctg_female=%{y}",
         "hovertext": [
          "Bildungs- und Erziehungswissenschaft",
          "Bildungs- und Erziehungswissenschaft",
          "Bildungs- und Erziehungswissenschaft",
          "Bildungs- und Erziehungswissenschaft",
          "Bildungs- und Erziehungswissenschaft",
          "Bildungs- und Erziehungswissenschaft"
         ],
         "legendgroup": "degree=Bachelor",
         "line": {
          "color": "#EF553B",
          "dash": "solid",
          "shape": "spline"
         },
         "mode": "lines",
         "name": "degree=Bachelor",
         "showlegend": false,
         "type": "scatter",
         "uid": "22e7c1dd-3ee8-427d-b20d-ce2eaa3e66df",
         "x": [
          0,
          1,
          2,
          3,
          4,
          5
         ],
         "xaxis": "x",
         "y": [
          0.8166666666666667,
          0.7983870967741935,
          0.7908496732026143,
          0.7967806841046278,
          0.7944915254237288,
          0.7992125984251969
         ],
         "yaxis": "y"
        },
        {
         "hoverlabel": {
          "namelength": 0
         },
         "hovertemplate": "<b>%{hovertext}</b><br><br>degree=Bachelor<br>subject=Biochemie<br>sem_index=%{x}<br>pctg_female=%{y}",
         "hovertext": [
          "Biochemie",
          "Biochemie",
          "Biochemie",
          "Biochemie",
          "Biochemie",
          "Biochemie"
         ],
         "legendgroup": "degree=Bachelor",
         "line": {
          "color": "#EF553B",
          "dash": "solid",
          "shape": "spline"
         },
         "mode": "lines",
         "name": "degree=Bachelor",
         "showlegend": false,
         "type": "scatter",
         "uid": "92d972d8-bb84-45a3-a27a-427d8e81b9cd",
         "x": [
          0,
          1,
          2,
          3,
          4,
          5
         ],
         "xaxis": "x",
         "y": [
          0.6176470588235294,
          0.5929203539823009,
          0.5799086757990868,
          0.5898617511520737,
          0.6033057851239669,
          0.6099585062240664
         ],
         "yaxis": "y"
        },
        {
         "hoverlabel": {
          "namelength": 0
         },
         "hovertemplate": "<b>%{hovertext}</b><br><br>degree=Bachelor<br>subject=Bioinformatik<br>sem_index=%{x}<br>pctg_female=%{y}",
         "hovertext": [
          "Bioinformatik",
          "Bioinformatik",
          "Bioinformatik",
          "Bioinformatik",
          "Bioinformatik",
          "Bioinformatik"
         ],
         "legendgroup": "degree=Bachelor",
         "line": {
          "color": "#EF553B",
          "dash": "solid",
          "shape": "spline"
         },
         "mode": "lines",
         "name": "degree=Bachelor",
         "showlegend": false,
         "type": "scatter",
         "uid": "f702973b-4fc1-47a1-ad5c-4bb97d61eb71",
         "x": [
          0,
          1,
          2,
          3,
          4,
          5
         ],
         "xaxis": "x",
         "y": [
          0.3835616438356164,
          0.4334763948497854,
          0.40444444444444444,
          0.46464646464646464,
          0.47183098591549294,
          0.4620253164556962
         ],
         "yaxis": "y"
        },
        {
         "hoverlabel": {
          "namelength": 0
         },
         "hovertemplate": "<b>%{hovertext}</b><br><br>degree=Bachelor<br>subject=Biologie<br>sem_index=%{x}<br>pctg_female=%{y}",
         "hovertext": [
          "Biologie",
          "Biologie",
          "Biologie",
          "Biologie",
          "Biologie",
          "Biologie"
         ],
         "legendgroup": "degree=Bachelor",
         "line": {
          "color": "#EF553B",
          "dash": "solid",
          "shape": "spline"
         },
         "mode": "lines",
         "name": "degree=Bachelor",
         "showlegend": false,
         "type": "scatter",
         "uid": "30c3b64f-0c2a-4fa8-993a-e6edf2cc8c06",
         "x": [
          0,
          1,
          2,
          3,
          4,
          5
         ],
         "xaxis": "x",
         "y": [
          0.6986899563318777,
          0.6814814814814815,
          0.6844262295081968,
          0.6986301369863014,
          0.6993865030674846,
          0.6930320150659134
         ],
         "yaxis": "y"
        },
        {
         "hoverlabel": {
          "namelength": 0
         },
         "hovertemplate": "<b>%{hovertext}</b><br><br>degree=Bachelor<br>subject=Chemie<br>sem_index=%{x}<br>pctg_female=%{y}",
         "hovertext": [
          "Chemie",
          "Chemie",
          "Chemie",
          "Chemie",
          "Chemie",
          "Chemie"
         ],
         "legendgroup": "degree=Bachelor",
         "line": {
          "color": "#EF553B",
          "dash": "solid",
          "shape": "spline"
         },
         "mode": "lines",
         "name": "degree=Bachelor",
         "showlegend": false,
         "type": "scatter",
         "uid": "427624d4-b1c7-4342-a102-4b97bf94844f",
         "x": [
          0,
          1,
          2,
          3,
          4,
          5
         ],
         "xaxis": "x",
         "y": [
          0.3940298507462687,
          0.3958333333333333,
          0.42105263157894735,
          0.40710382513661203,
          0.416,
          0.4139650872817955
         ],
         "yaxis": "y"
        },
        {
         "hoverlabel": {
          "namelength": 0
         },
         "hovertemplate": "<b>%{hovertext}</b><br><br>degree=Bachelor<br>subject=Chinastudien/Ostasienwissenschaften<br>sem_index=%{x}<br>pctg_female=%{y}",
         "hovertext": [
          "Chinastudien/Ostasienwissenschaften",
          "Chinastudien/Ostasienwissenschaften",
          "Chinastudien/Ostasienwissenschaften",
          "Chinastudien/Ostasienwissenschaften",
          "Chinastudien/Ostasienwissenschaften"
         ],
         "legendgroup": "degree=Bachelor",
         "line": {
          "color": "#EF553B",
          "dash": "solid",
          "shape": "spline"
         },
         "mode": "lines",
         "name": "degree=Bachelor",
         "showlegend": false,
         "type": "scatter",
         "uid": "f31e05ec-7d27-424a-9cf7-1d4b6c4116b5",
         "x": [
          0,
          1,
          2,
          3,
          5
         ],
         "xaxis": "x",
         "y": [
          0.601593625498008,
          0.5925925925925926,
          0.576036866359447,
          0.5859030837004405,
          0.6172248803827751
         ],
         "yaxis": "y"
        },
        {
         "hoverlabel": {
          "namelength": 0
         },
         "hovertemplate": "<b>%{hovertext}</b><br><br>degree=Bachelor<br>subject=Geographische Wissenschaften<br>sem_index=%{x}<br>pctg_female=%{y}",
         "hovertext": [
          "Geographische Wissenschaften",
          "Geographische Wissenschaften",
          "Geographische Wissenschaften",
          "Geographische Wissenschaften",
          "Geographische Wissenschaften",
          "Geographische Wissenschaften"
         ],
         "legendgroup": "degree=Bachelor",
         "line": {
          "color": "#EF553B",
          "dash": "solid",
          "shape": "spline"
         },
         "mode": "lines",
         "name": "degree=Bachelor",
         "showlegend": false,
         "type": "scatter",
         "uid": "9c7311d2-dc9d-4a89-87d0-c40fc8b61638",
         "x": [
          0,
          1,
          2,
          3,
          4,
          5
         ],
         "xaxis": "x",
         "y": [
          0.40145985401459855,
          0.3824175824175824,
          0.38369304556354916,
          0.38562091503267976,
          0.39667458432304037,
          0.37662337662337664
         ],
         "yaxis": "y"
        },
        {
         "hoverlabel": {
          "namelength": 0
         },
         "hovertemplate": "<b>%{hovertext}</b><br><br>degree=Bachelor<br>subject=Geologische Wissenschaften<br>sem_index=%{x}<br>pctg_female=%{y}",
         "hovertext": [
          "Geologische Wissenschaften",
          "Geologische Wissenschaften",
          "Geologische Wissenschaften",
          "Geologische Wissenschaften",
          "Geologische Wissenschaften",
          "Geologische Wissenschaften"
         ],
         "legendgroup": "degree=Bachelor",
         "line": {
          "color": "#EF553B",
          "dash": "solid",
          "shape": "spline"
         },
         "mode": "lines",
         "name": "degree=Bachelor",
         "showlegend": false,
         "type": "scatter",
         "uid": "a1cc9f52-beaf-4f2d-a368-14b0b4ace5b1",
         "x": [
          0,
          1,
          2,
          3,
          4,
          5
         ],
         "xaxis": "x",
         "y": [
          0.36619718309859156,
          0.3665768194070081,
          0.3554913294797688,
          0.39275766016713093,
          0.3778501628664495,
          0.4099722991689751
         ],
         "yaxis": "y"
        },
        {
         "hoverlabel": {
          "namelength": 0
         },
         "hovertemplate": "<b>%{hovertext}</b><br><br>degree=Bachelor<br>subject=Geschichte und Kultur des Vorderen Orients mit Schwerpunkt:\rIslamwissenschaft<br>sem_index=%{x}<br>pctg_female=%{y}",
         "hovertext": [
          "Geschichte und Kultur des Vorderen Orients mit Schwerpunkt:\rIslamwissenschaft",
          "Geschichte und Kultur des Vorderen Orients mit Schwerpunkt:\rIslamwissenschaft",
          "Geschichte und Kultur des Vorderen Orients mit Schwerpunkt:\rIslamwissenschaft",
          "Geschichte und Kultur des Vorderen Orients mit Schwerpunkt:\rIslamwissenschaft",
          "Geschichte und Kultur des Vorderen Orients mit Schwerpunkt:\rIslamwissenschaft",
          "Geschichte und Kultur des Vorderen Orients mit Schwerpunkt:\rIslamwissenschaft"
         ],
         "legendgroup": "degree=Bachelor",
         "line": {
          "color": "#EF553B",
          "dash": "solid",
          "shape": "spline"
         },
         "mode": "lines",
         "name": "degree=Bachelor",
         "showlegend": false,
         "type": "scatter",
         "uid": "20e8ea6d-a5fd-4d30-9168-d5cacad81b5e",
         "x": [
          0,
          1,
          2,
          3,
          4,
          5
         ],
         "xaxis": "x",
         "y": [
          0.7254901960784313,
          0.7333333333333333,
          0.719047619047619,
          0.6986301369863014,
          0.6746411483253588,
          0.6666666666666666
         ],
         "yaxis": "y"
        },
        {
         "hoverlabel": {
          "namelength": 0
         },
         "hovertemplate": "<b>%{hovertext}</b><br><br>degree=Bachelor<br>subject=Informatik<br>sem_index=%{x}<br>pctg_female=%{y}",
         "hovertext": [
          "Informatik",
          "Informatik",
          "Informatik",
          "Informatik",
          "Informatik",
          "Informatik"
         ],
         "legendgroup": "degree=Bachelor",
         "line": {
          "color": "#EF553B",
          "dash": "solid",
          "shape": "spline"
         },
         "mode": "lines",
         "name": "degree=Bachelor",
         "showlegend": false,
         "type": "scatter",
         "uid": "2b77052f-0980-42a4-bd9b-26175216bd62",
         "x": [
          0,
          1,
          2,
          3,
          4,
          5
         ],
         "xaxis": "x",
         "y": [
          0.19975932611311673,
          0.2294757665677547,
          0.2244668911335578,
          0.20815450643776823,
          0.2115839243498818,
          0.2026431718061674
         ],
         "yaxis": "y"
        },
        {
         "hoverlabel": {
          "namelength": 0
         },
         "hovertemplate": "<b>%{hovertext}</b><br><br>degree=Bachelor<br>subject=Koreastudien/Ostasienwissenschaften<br>sem_index=%{x}<br>pctg_female=%{y}",
         "hovertext": [
          "Koreastudien/Ostasienwissenschaften",
          "Koreastudien/Ostasienwissenschaften"
         ],
         "legendgroup": "degree=Bachelor",
         "line": {
          "color": "#EF553B",
          "dash": "solid",
          "shape": "spline"
         },
         "mode": "lines",
         "name": "degree=Bachelor",
         "showlegend": false,
         "type": "scatter",
         "uid": "930b6b12-0723-4871-999e-bba1eb2bd109",
         "x": [
          3,
          5
         ],
         "xaxis": "x",
         "y": [
          0.8038277511961722,
          0.819047619047619
         ],
         "yaxis": "y"
        },
        {
         "hoverlabel": {
          "namelength": 0
         },
         "hovertemplate": "<b>%{hovertext}</b><br><br>degree=Bachelor<br>subject=Meteorologie<br>sem_index=%{x}<br>pctg_female=%{y}",
         "hovertext": [
          "Meteorologie"
         ],
         "legendgroup": "degree=Bachelor",
         "line": {
          "color": "#EF553B",
          "dash": "solid",
          "shape": "spline"
         },
         "mode": "lines",
         "name": "degree=Bachelor",
         "showlegend": false,
         "type": "scatter",
         "uid": "b3deaac5-389d-4a24-ac00-e233fdb665e1",
         "x": [
          5
         ],
         "xaxis": "x",
         "y": [
          0.3886255924170616
         ],
         "yaxis": "y"
        },
        {
         "hoverlabel": {
          "namelength": 0
         },
         "hovertemplate": "<b>%{hovertext}</b><br><br>degree=Bachelor<br>subject=Medieninformatik<br>sem_index=%{x}<br>pctg_female=%{y}",
         "hovertext": [
          "Medieninformatik"
         ],
         "legendgroup": "degree=Bachelor",
         "line": {
          "color": "#EF553B",
          "dash": "solid",
          "shape": "spline"
         },
         "mode": "lines",
         "name": "degree=Bachelor",
         "showlegend": false,
         "type": "scatter",
         "uid": "d0b70aab-da23-4793-ab1b-6fbf2dece06a",
         "x": [
          5
         ],
         "xaxis": "x",
         "y": [
          0.44954128440366975
         ],
         "yaxis": "y"
        },
        {
         "hoverlabel": {
          "namelength": 0
         },
         "hovertemplate": "<b>%{hovertext}</b><br><br>degree=Master<br>subject=Nordamerikastudien<br>sem_index=%{x}<br>pctg_female=%{y}",
         "hovertext": [
          "Nordamerikastudien",
          "Nordamerikastudien",
          "Nordamerikastudien",
          "Nordamerikastudien",
          "Nordamerikastudien",
          "Nordamerikastudien"
         ],
         "legendgroup": "degree=Master",
         "line": {
          "color": "#00cc96",
          "dash": "solid",
          "shape": "spline"
         },
         "mode": "lines",
         "name": "degree=Master",
         "showlegend": true,
         "type": "scatter",
         "uid": "3ae67b24-5581-4e7d-bfab-6e9224f52dc0",
         "x": [
          0,
          1,
          2,
          3,
          4,
          5
         ],
         "xaxis": "x",
         "y": [
          0.5970873786407767,
          0.55893536121673,
          0.5588235294117647,
          0.5757575757575758,
          0.5608856088560885,
          0.577922077922078
         ],
         "yaxis": "y"
        },
        {
         "hoverlabel": {
          "namelength": 0
         },
         "hovertemplate": "<b>%{hovertext}</b><br><br>degree=Master<br>subject=Philosophie<br>sem_index=%{x}<br>pctg_female=%{y}",
         "hovertext": [
          "Philosophie",
          "Philosophie"
         ],
         "legendgroup": "degree=Master",
         "line": {
          "color": "#00cc96",
          "dash": "solid",
          "shape": "spline"
         },
         "mode": "lines",
         "name": "degree=Master",
         "showlegend": false,
         "type": "scatter",
         "uid": "c519762f-4ff2-49a2-98ad-eece3562984b",
         "x": [
          3,
          5
         ],
         "xaxis": "x",
         "y": [
          0.3961352657004831,
          0.40669856459330145
         ],
         "yaxis": "y"
        },
        {
         "hoverlabel": {
          "namelength": 0
         },
         "hovertemplate": "<b>%{hovertext}</b><br><br>degree=Master<br>subject=Politikwissenschaft<br>sem_index=%{x}<br>pctg_female=%{y}",
         "hovertext": [
          "Politikwissenschaft",
          "Politikwissenschaft",
          "Politikwissenschaft",
          "Politikwissenschaft",
          "Politikwissenschaft",
          "Politikwissenschaft"
         ],
         "legendgroup": "degree=Master",
         "line": {
          "color": "#00cc96",
          "dash": "solid",
          "shape": "spline"
         },
         "mode": "lines",
         "name": "degree=Master",
         "showlegend": false,
         "type": "scatter",
         "uid": "8173a0f7-206f-442b-87bc-dc0aa9cb7f65",
         "x": [
          0,
          1,
          2,
          3,
          4,
          5
         ],
         "xaxis": "x",
         "y": [
          0.496875,
          0.5345268542199488,
          0.5280898876404494,
          0.5286783042394015,
          0.5263157894736842,
          0.5527638190954773
         ],
         "yaxis": "y"
        },
        {
         "hoverlabel": {
          "namelength": 0
         },
         "hovertemplate": "<b>%{hovertext}</b><br><br>degree=Master<br>subject=Kunstgeschichte im globalen Kontext davon Schwerpunkt:\rEuropa und Amerika<br>sem_index=%{x}<br>pctg_female=%{y}",
         "hovertext": [
          "Kunstgeschichte im globalen Kontext davon Schwerpunkt:\rEuropa und Amerika",
          "Kunstgeschichte im globalen Kontext davon Schwerpunkt:\rEuropa und Amerika",
          "Kunstgeschichte im globalen Kontext davon Schwerpunkt:\rEuropa und Amerika",
          "Kunstgeschichte im globalen Kontext davon Schwerpunkt:\rEuropa und Amerika",
          "Kunstgeschichte im globalen Kontext davon Schwerpunkt:\rEuropa und Amerika",
          "Kunstgeschichte im globalen Kontext davon Schwerpunkt:\rEuropa und Amerika"
         ],
         "legendgroup": "degree=Master",
         "line": {
          "color": "#00cc96",
          "dash": "solid",
          "shape": "spline"
         },
         "mode": "lines",
         "name": "degree=Master",
         "showlegend": false,
         "type": "scatter",
         "uid": "a2a94fb5-d208-4d0a-a4d8-4dad24f4d84d",
         "x": [
          0,
          1,
          2,
          3,
          4,
          5
         ],
         "xaxis": "x",
         "y": [
          0.8207547169811321,
          0.852589641434263,
          0.8491379310344828,
          0.8490566037735849,
          0.8529411764705882,
          0.8560606060606061
         ],
         "yaxis": "y"
        },
        {
         "hoverlabel": {
          "namelength": 0
         },
         "hovertemplate": "<b>%{hovertext}</b><br><br>degree=Master<br>subject=Interdisziplinäre Lateinamerikastudien<br>sem_index=%{x}<br>pctg_female=%{y}",
         "hovertext": [
          "Interdisziplinäre Lateinamerikastudien",
          "Interdisziplinäre Lateinamerikastudien",
          "Interdisziplinäre Lateinamerikastudien",
          "Interdisziplinäre Lateinamerikastudien",
          "Interdisziplinäre Lateinamerikastudien",
          "Interdisziplinäre Lateinamerikastudien"
         ],
         "legendgroup": "degree=Master",
         "line": {
          "color": "#00cc96",
          "dash": "solid",
          "shape": "spline"
         },
         "mode": "lines",
         "name": "degree=Master",
         "showlegend": false,
         "type": "scatter",
         "uid": "6fe28bde-7404-4ee5-b274-a07fd96f498a",
         "x": [
          0,
          1,
          2,
          3,
          4,
          5
         ],
         "xaxis": "x",
         "y": [
          0.7990430622009569,
          0.8007968127490039,
          0.7844827586206896,
          0.7613636363636364,
          0.7777777777777778,
          0.7937062937062938
         ],
         "yaxis": "y"
        },
        {
         "hoverlabel": {
          "namelength": 0
         },
         "hovertemplate": "<b>%{hovertext}</b><br><br>degree=Master<br>subject=Biologie<br>sem_index=%{x}<br>pctg_female=%{y}",
         "hovertext": [
          "Biologie",
          "Biologie"
         ],
         "legendgroup": "degree=Master",
         "line": {
          "color": "#00cc96",
          "dash": "solid",
          "shape": "spline"
         },
         "mode": "lines",
         "name": "degree=Master",
         "showlegend": false,
         "type": "scatter",
         "uid": "8668c19a-e888-4dcf-9682-6fd9d18677b2",
         "x": [
          3,
          5
         ],
         "xaxis": "x",
         "y": [
          0.7192118226600985,
          0.693069306930693
         ],
         "yaxis": "y"
        },
        {
         "hoverlabel": {
          "namelength": 0
         },
         "hovertemplate": "<b>%{hovertext}</b><br><br>degree=Master<br>subject=Informatik<br>sem_index=%{x}<br>pctg_female=%{y}",
         "hovertext": [
          "Informatik",
          "Informatik",
          "Informatik",
          "Informatik",
          "Informatik",
          "Informatik"
         ],
         "legendgroup": "degree=Master",
         "line": {
          "color": "#00cc96",
          "dash": "solid",
          "shape": "spline"
         },
         "mode": "lines",
         "name": "degree=Master",
         "showlegend": false,
         "type": "scatter",
         "uid": "a29bbaa3-76ec-4206-93b7-6689bf91a920",
         "x": [
          0,
          1,
          2,
          3,
          4,
          5
         ],
         "xaxis": "x",
         "y": [
          0.08239700374531835,
          0.09205020920502092,
          0.10344827586206896,
          0.11353711790393013,
          0.11363636363636363,
          0.14285714285714285
         ],
         "yaxis": "y"
        },
        {
         "hoverlabel": {
          "namelength": 0
         },
         "hovertemplate": "<b>%{hovertext}</b><br><br>degree=Master<br>subject=Bildungswissenschaft<br>sem_index=%{x}<br>pctg_female=%{y}",
         "hovertext": [
          "Bildungswissenschaft",
          "Bildungswissenschaft"
         ],
         "legendgroup": "degree=Master",
         "line": {
          "color": "#00cc96",
          "dash": "solid",
          "shape": "spline"
         },
         "mode": "lines",
         "name": "degree=Master",
         "showlegend": false,
         "type": "scatter",
         "uid": "19b017b8-6836-4290-8e3b-2fbe3f72a2be",
         "x": [
          1,
          3
         ],
         "xaxis": "x",
         "y": [
          0.8379629629629629,
          0.8372093023255814
         ],
         "yaxis": "y"
        },
        {
         "hoverlabel": {
          "namelength": 0
         },
         "hovertemplate": "<b>%{hovertext}</b><br><br>degree=Master<br>subject=Medien und Politische Kommunikation<br>sem_index=%{x}<br>pctg_female=%{y}",
         "hovertext": [
          "Medien und Politische Kommunikation"
         ],
         "legendgroup": "degree=Master",
         "line": {
          "color": "#00cc96",
          "dash": "solid",
          "shape": "spline"
         },
         "mode": "lines",
         "name": "degree=Master",
         "showlegend": false,
         "type": "scatter",
         "uid": "b4dd82a3-9fe8-48ee-92ac-9360106d3bba",
         "x": [
          1
         ],
         "xaxis": "x",
         "y": [
          0.75
         ],
         "yaxis": "y"
        },
        {
         "hoverlabel": {
          "namelength": 0
         },
         "hovertemplate": "<b>%{hovertext}</b><br><br>degree=Master<br>subject=Soziologie - Europäische Gesellschaften -<br>sem_index=%{x}<br>pctg_female=%{y}",
         "hovertext": [
          "Soziologie - Europäische Gesellschaften -",
          "Soziologie - Europäische Gesellschaften -",
          "Soziologie - Europäische Gesellschaften -",
          "Soziologie - Europäische Gesellschaften -",
          "Soziologie - Europäische Gesellschaften -"
         ],
         "legendgroup": "degree=Master",
         "line": {
          "color": "#00cc96",
          "dash": "solid",
          "shape": "spline"
         },
         "mode": "lines",
         "name": "degree=Master",
         "showlegend": false,
         "type": "scatter",
         "uid": "eee29f1b-b1a2-4b51-ab5b-fb35a0a8b81a",
         "x": [
          1,
          2,
          3,
          4,
          5
         ],
         "xaxis": "x",
         "y": [
          0.6708860759493671,
          0.6682464454976303,
          0.6164874551971327,
          0.610655737704918,
          0.5830508474576271
         ],
         "yaxis": "y"
        },
        {
         "hoverlabel": {
          "namelength": 0
         },
         "hovertemplate": "<b>%{hovertext}</b><br><br>degree=Master<br>subject=Psychologie mit Schwerpunkt Klinische- und\rGesundheitspsychologie<br>sem_index=%{x}<br>pctg_female=%{y}",
         "hovertext": [
          "Psychologie mit Schwerpunkt Klinische- und\rGesundheitspsychologie",
          "Psychologie mit Schwerpunkt Klinische- und\rGesundheitspsychologie"
         ],
         "legendgroup": "degree=Master",
         "line": {
          "color": "#00cc96",
          "dash": "solid",
          "shape": "spline"
         },
         "mode": "lines",
         "name": "degree=Master",
         "showlegend": false,
         "type": "scatter",
         "uid": "fec12be9-f9da-44c8-ae92-b823121ce6bc",
         "x": [
          1,
          5
         ],
         "xaxis": "x",
         "y": [
          0.8252427184466019,
          0.8173076923076923
         ],
         "yaxis": "y"
        },
        {
         "hoverlabel": {
          "namelength": 0
         },
         "hovertemplate": "<b>%{hovertext}</b><br><br>degree=Master<br>subject=Osteuropastudien<br>sem_index=%{x}<br>pctg_female=%{y}",
         "hovertext": [
          "Osteuropastudien",
          "Osteuropastudien",
          "Osteuropastudien",
          "Osteuropastudien",
          "Osteuropastudien"
         ],
         "legendgroup": "degree=Master",
         "line": {
          "color": "#00cc96",
          "dash": "solid",
          "shape": "spline"
         },
         "mode": "lines",
         "name": "degree=Master",
         "showlegend": false,
         "type": "scatter",
         "uid": "66aa252e-c5f3-4045-88f4-b5681f589a1d",
         "x": [
          1,
          2,
          3,
          4,
          5
         ],
         "xaxis": "x",
         "y": [
          0.625,
          0.624390243902439,
          0.6204081632653061,
          0.6090909090909091,
          0.6322314049586777
         ],
         "yaxis": "y"
        },
        {
         "hoverlabel": {
          "namelength": 0
         },
         "hovertemplate": "<b>%{hovertext}</b><br><br>degree=Staatsexamen<br>subject=Pharmazie<br>sem_index=%{x}<br>pctg_female=%{y}",
         "hovertext": [
          "Pharmazie",
          "Pharmazie",
          "Pharmazie",
          "Pharmazie",
          "Pharmazie",
          "Pharmazie"
         ],
         "legendgroup": "degree=Staatsexamen",
         "line": {
          "color": "#ab63fa",
          "dash": "solid",
          "shape": "spline"
         },
         "mode": "lines",
         "name": "degree=Staatsexamen",
         "showlegend": true,
         "type": "scatter",
         "uid": "93f88b41-0dd3-428e-98b1-6a31f19dd4e7",
         "x": [
          0,
          1,
          2,
          3,
          4,
          5
         ],
         "xaxis": "x",
         "y": [
          0.7078464106844741,
          0.7096219931271478,
          0.6985815602836879,
          0.6822916666666666,
          0.6842105263157895,
          0.6694078947368421
         ],
         "yaxis": "y"
        },
        {
         "hoverlabel": {
          "namelength": 0
         },
         "hovertemplate": "<b>%{hovertext}</b><br><br>degree=Staatsexamen<br>subject=Rechtswissenschaft<br>sem_index=%{x}<br>pctg_female=%{y}",
         "hovertext": [
          "Rechtswissenschaft",
          "Rechtswissenschaft",
          "Rechtswissenschaft",
          "Rechtswissenschaft",
          "Rechtswissenschaft",
          "Rechtswissenschaft"
         ],
         "legendgroup": "degree=Staatsexamen",
         "line": {
          "color": "#ab63fa",
          "dash": "solid",
          "shape": "spline"
         },
         "mode": "lines",
         "name": "degree=Staatsexamen",
         "showlegend": false,
         "type": "scatter",
         "uid": "8494ec3c-1a87-403a-8c01-1f21bbf9f97a",
         "x": [
          0,
          1,
          2,
          3,
          4,
          5
         ],
         "xaxis": "x",
         "y": [
          0.5753052917232022,
          0.5741882449650637,
          0.5815730337078652,
          0.5839323467230444,
          0.5825602968460112,
          0.5922783198981757
         ],
         "yaxis": "y"
        },
        {
         "hoverlabel": {
          "namelength": 0
         },
         "hovertemplate": "<b>%{hovertext}</b><br><br>degree=Staatsexamen<br>subject=Veterinärmedizin<br>sem_index=%{x}<br>pctg_female=%{y}",
         "hovertext": [
          "Veterinärmedizin",
          "Veterinärmedizin",
          "Veterinärmedizin",
          "Veterinärmedizin",
          "Veterinärmedizin",
          "Veterinärmedizin"
         ],
         "legendgroup": "degree=Staatsexamen",
         "line": {
          "color": "#ab63fa",
          "dash": "solid",
          "shape": "spline"
         },
         "mode": "lines",
         "name": "degree=Staatsexamen",
         "showlegend": false,
         "type": "scatter",
         "uid": "9acaca7b-c690-42bc-bcc9-06f7a2e930d2",
         "x": [
          0,
          1,
          2,
          3,
          4,
          5
         ],
         "xaxis": "x",
         "y": [
          0.8480340063761955,
          0.8474418604651163,
          0.8506787330316742,
          0.8436018957345972,
          0.8442982456140351,
          0.872423945044161
         ],
         "yaxis": "y"
        },
        {
         "hoverlabel": {
          "namelength": 0
         },
         "hovertemplate": "<b>%{hovertext}</b><br><br>degree=Promotion<br>subject=Politikwissenschaft<br>sem_index=%{x}<br>pctg_female=%{y}",
         "hovertext": [
          "Politikwissenschaft",
          "Politikwissenschaft",
          "Politikwissenschaft"
         ],
         "legendgroup": "degree=Promotion",
         "line": {
          "color": "#19d3f3",
          "dash": "solid",
          "shape": "spline"
         },
         "mode": "lines",
         "name": "degree=Promotion",
         "showlegend": true,
         "type": "scatter",
         "uid": "a4640646-269c-4a2b-921c-1f177b91d4de",
         "x": [
          0,
          1,
          2
         ],
         "xaxis": "x",
         "y": [
          0.4896265560165975,
          0.4792626728110599,
          0.48756218905472637
         ],
         "yaxis": "y"
        },
        {
         "hoverlabel": {
          "namelength": 0
         },
         "hovertemplate": "<b>%{hovertext}</b><br><br>degree=Promotion<br>subject=Rechtswissenschaft<br>sem_index=%{x}<br>pctg_female=%{y}",
         "hovertext": [
          "Rechtswissenschaft",
          "Rechtswissenschaft",
          "Rechtswissenschaft",
          "Rechtswissenschaft",
          "Rechtswissenschaft",
          "Rechtswissenschaft"
         ],
         "legendgroup": "degree=Promotion",
         "line": {
          "color": "#19d3f3",
          "dash": "solid",
          "shape": "spline"
         },
         "mode": "lines",
         "name": "degree=Promotion",
         "showlegend": false,
         "type": "scatter",
         "uid": "3c419dd7-814b-4633-8e38-6999bb146127",
         "x": [
          0,
          1,
          2,
          3,
          4,
          5
         ],
         "xaxis": "x",
         "y": [
          0.4837662337662338,
          0.45364238410596025,
          0.444794952681388,
          0.4605263157894737,
          0.43197278911564624,
          0.4722222222222222
         ],
         "yaxis": "y"
        },
        {
         "hoverlabel": {
          "namelength": 0
         },
         "hovertemplate": "<b>%{hovertext}</b><br><br>degree=Promotion<br>subject=Veterinärmedizin<br>sem_index=%{x}<br>pctg_female=%{y}",
         "hovertext": [
          "Veterinärmedizin",
          "Veterinärmedizin",
          "Veterinärmedizin",
          "Veterinärmedizin",
          "Veterinärmedizin",
          "Veterinärmedizin"
         ],
         "legendgroup": "degree=Promotion",
         "line": {
          "color": "#19d3f3",
          "dash": "solid",
          "shape": "spline"
         },
         "mode": "lines",
         "name": "degree=Promotion",
         "showlegend": false,
         "type": "scatter",
         "uid": "4701b481-11e3-4525-96d8-5863ba4e530f",
         "x": [
          0,
          1,
          2,
          3,
          4,
          5
         ],
         "xaxis": "x",
         "y": [
          0.7878787878787878,
          0.7897196261682243,
          0.7710843373493976,
          0.7799511002444988,
          0.7837150127226463,
          0.7828282828282829
         ],
         "yaxis": "y"
        },
        {
         "hoverlabel": {
          "namelength": 0
         },
         "hovertemplate": "<b>%{hovertext}</b><br><br>degree=Promotion<br>subject=Biologie<br>sem_index=%{x}<br>pctg_female=%{y}",
         "hovertext": [
          "Biologie",
          "Biologie",
          "Biologie",
          "Biologie",
          "Biologie",
          "Biologie"
         ],
         "legendgroup": "degree=Promotion",
         "line": {
          "color": "#19d3f3",
          "dash": "solid",
          "shape": "spline"
         },
         "mode": "lines",
         "name": "degree=Promotion",
         "showlegend": false,
         "type": "scatter",
         "uid": "1d495210-81a4-49cb-ab77-03b15f8d59fa",
         "x": [
          0,
          1,
          2,
          3,
          4,
          5
         ],
         "xaxis": "x",
         "y": [
          0.6043956043956044,
          0.6094890510948905,
          0.6156462585034014,
          0.6282527881040892,
          0.6498054474708171,
          0.6454183266932271
         ],
         "yaxis": "y"
        },
        {
         "hoverlabel": {
          "namelength": 0
         },
         "hovertemplate": "<b>%{hovertext}</b><br><br>degree=Abschl.außerh.Deutschland<br>subject=FUBiS - Deutsch<br>sem_index=%{x}<br>pctg_female=%{y}",
         "hovertext": [
          "FUBiS - Deutsch",
          "FUBiS - Deutsch",
          "FUBiS - Deutsch"
         ],
         "legendgroup": "degree=Abschl.außerh.Deutschland",
         "line": {
          "color": "#e763fa",
          "dash": "solid",
          "shape": "spline"
         },
         "mode": "lines",
         "name": "degree=Abschl.außerh.Deutschland",
         "showlegend": true,
         "type": "scatter",
         "uid": "4de52411-6a1c-4ae4-b367-da346ca0be97",
         "x": [
          0,
          2,
          4
         ],
         "xaxis": "x",
         "y": [
          0.5718849840255591,
          0.5955414012738853,
          0.5633187772925764
         ],
         "yaxis": "y"
        },
        {
         "hoverlabel": {
          "namelength": 0
         },
         "hovertemplate": "<b>%{hovertext}</b><br><br>degree=LA Bachelor ISS und Gym.<br>subject=Biologie<br>sem_index=%{x}<br>pctg_female=%{y}",
         "hovertext": [
          "Biologie"
         ],
         "legendgroup": "degree=LA Bachelor ISS und Gym.",
         "line": {
          "color": "#FECB52",
          "dash": "solid",
          "shape": "spline"
         },
         "mode": "lines",
         "name": "degree=LA Bachelor ISS und Gym.",
         "showlegend": true,
         "type": "scatter",
         "uid": "f3a92c36-a788-4028-a3a5-87ffe83c8638",
         "x": [
          5
         ],
         "xaxis": "x",
         "y": [
          0.6157635467980296
         ],
         "yaxis": "y"
        },
        {
         "hoverlabel": {
          "namelength": 0
         },
         "hovertemplate": "<b>%{hovertext}</b><br><br>degree=LA Bachelor ISS und Gym.<br>subject=Geschichte<br>sem_index=%{x}<br>pctg_female=%{y}",
         "hovertext": [
          "Geschichte",
          "Geschichte",
          "Geschichte",
          "Geschichte",
          "Geschichte"
         ],
         "legendgroup": "degree=LA Bachelor ISS und Gym.",
         "line": {
          "color": "#FECB52",
          "dash": "solid",
          "shape": "spline"
         },
         "mode": "lines",
         "name": "degree=LA Bachelor ISS und Gym.",
         "showlegend": false,
         "type": "scatter",
         "uid": "d70cec39-a8d1-4394-b3a1-df799fd343ee",
         "x": [
          1,
          2,
          3,
          4,
          5
         ],
         "xaxis": "x",
         "y": [
          0.3898305084745763,
          0.4034334763948498,
          0.44281524926686217,
          0.44807121661721067,
          0.42729970326409494
         ],
         "yaxis": "y"
        },
        {
         "hoverlabel": {
          "namelength": 0
         },
         "hovertemplate": "<b>%{hovertext}</b><br><br>degree=LA Bachelor ISS und Gym.<br>subject=Deutsch / Deutsche Philologie<br>sem_index=%{x}<br>pctg_female=%{y}",
         "hovertext": [
          "Deutsch / Deutsche Philologie",
          "Deutsch / Deutsche Philologie",
          "Deutsch / Deutsche Philologie",
          "Deutsch / Deutsche Philologie",
          "Deutsch / Deutsche Philologie"
         ],
         "legendgroup": "degree=LA Bachelor ISS und Gym.",
         "line": {
          "color": "#FECB52",
          "dash": "solid",
          "shape": "spline"
         },
         "mode": "lines",
         "name": "degree=LA Bachelor ISS und Gym.",
         "showlegend": false,
         "type": "scatter",
         "uid": "935e1644-eac9-4292-807e-5291bce127bc",
         "x": [
          1,
          2,
          3,
          4,
          5
         ],
         "xaxis": "x",
         "y": [
          0.7519083969465649,
          0.7575757575757576,
          0.7492537313432835,
          0.7613293051359517,
          0.7292682926829268
         ],
         "yaxis": "y"
        },
        {
         "hoverlabel": {
          "namelength": 0
         },
         "hovertemplate": "<b>%{hovertext}</b><br><br>degree=LA Bachelor ISS und Gym.<br>subject=Kernfach TUB<br>sem_index=%{x}<br>pctg_female=%{y}",
         "hovertext": [
          "Kernfach TUB",
          "Kernfach TUB",
          "Kernfach TUB"
         ],
         "legendgroup": "degree=LA Bachelor ISS und Gym.",
         "line": {
          "color": "#FECB52",
          "dash": "solid",
          "shape": "spline"
         },
         "mode": "lines",
         "name": "degree=LA Bachelor ISS und Gym.",
         "showlegend": false,
         "type": "scatter",
         "uid": "d1f0888b-a3c5-4ce9-86c8-ea94a27954ff",
         "x": [
          1,
          3,
          5
         ],
         "xaxis": "x",
         "y": [
          0.6368159203980099,
          0.6325581395348837,
          0.6023622047244095
         ],
         "yaxis": "y"
        },
        {
         "hoverlabel": {
          "namelength": 0
         },
         "hovertemplate": "<b>%{hovertext}</b><br><br>degree=LA Bachelor ISS und Gym.<br>subject=Englisch / Englische Philologie<br>sem_index=%{x}<br>pctg_female=%{y}",
         "hovertext": [
          "Englisch / Englische Philologie"
         ],
         "legendgroup": "degree=LA Bachelor ISS und Gym.",
         "line": {
          "color": "#FECB52",
          "dash": "solid",
          "shape": "spline"
         },
         "mode": "lines",
         "name": "degree=LA Bachelor ISS und Gym.",
         "showlegend": false,
         "type": "scatter",
         "uid": "81e258ab-bacb-4bad-85e3-c5d3cadf76a6",
         "x": [
          5
         ],
         "xaxis": "x",
         "y": [
          0.6367713004484304
         ],
         "yaxis": "y"
        },
        {
         "hoverlabel": {
          "namelength": 0
         },
         "hovertemplate": "<b>%{hovertext}</b><br><br>degree=LA Bachelor ISS und Gym.<br>subject=Kernfach UdK<br>sem_index=%{x}<br>pctg_female=%{y}",
         "hovertext": [
          "Kernfach UdK"
         ],
         "legendgroup": "degree=LA Bachelor ISS und Gym.",
         "line": {
          "color": "#FECB52",
          "dash": "solid",
          "shape": "spline"
         },
         "mode": "lines",
         "name": "degree=LA Bachelor ISS und Gym.",
         "showlegend": false,
         "type": "scatter",
         "uid": "8ea337c6-fd8e-4c77-8962-fd83cdd78d61",
         "x": [
          5
         ],
         "xaxis": "x",
         "y": [
          0.6759259259259259
         ],
         "yaxis": "y"
        }
       ],
       "layout": {
        "grid": {
         "xaxes": [
          "x"
         ],
         "xgap": 0.1,
         "xside": "bottom",
         "yaxes": [
          "y"
         ],
         "ygap": 0.1,
         "yside": "left"
        },
        "height": 600,
        "legend": {
         "tracegroupgap": 0
        },
        "margin": {
         "t": 60
        },
        "template": {
         "data": {
          "bar": [
           {
            "marker": {
             "line": {
              "color": "#E5ECF6",
              "width": 0.5
             }
            },
            "type": "bar"
           }
          ],
          "barpolar": [
           {
            "marker": {
             "line": {
              "color": "#E5ECF6",
              "width": 0.5
             }
            },
            "type": "barpolar"
           }
          ],
          "carpet": [
           {
            "aaxis": {
             "endlinecolor": "#2a3f5f",
             "gridcolor": "white",
             "linecolor": "white",
             "minorgridcolor": "white",
             "startlinecolor": "#2a3f5f"
            },
            "baxis": {
             "endlinecolor": "#2a3f5f",
             "gridcolor": "white",
             "linecolor": "white",
             "minorgridcolor": "white",
             "startlinecolor": "#2a3f5f"
            },
            "type": "carpet"
           }
          ],
          "choropleth": [
           {
            "colorbar": {
             "outlinewidth": 0,
             "ticks": ""
            },
            "type": "choropleth"
           }
          ],
          "contour": [
           {
            "colorbar": {
             "outlinewidth": 0,
             "ticks": ""
            },
            "colorscale": [
             [
              0,
              "#0508b8"
             ],
             [
              0.0893854748603352,
              "#1910d8"
             ],
             [
              0.1787709497206704,
              "#3c19f0"
             ],
             [
              0.2681564245810056,
              "#6b1cfb"
             ],
             [
              0.3575418994413408,
              "#981cfd"
             ],
             [
              0.44692737430167595,
              "#bf1cfd"
             ],
             [
              0.5363128491620112,
              "#dd2bfd"
             ],
             [
              0.6256983240223464,
              "#f246fe"
             ],
             [
              0.7150837988826816,
              "#fc67fd"
             ],
             [
              0.8044692737430168,
              "#fe88fc"
             ],
             [
              0.8938547486033519,
              "#fea5fd"
             ],
             [
              0.9832402234636871,
              "#febefe"
             ],
             [
              1,
              "#fec3fe"
             ]
            ],
            "type": "contour"
           }
          ],
          "contourcarpet": [
           {
            "colorbar": {
             "outlinewidth": 0,
             "ticks": ""
            },
            "type": "contourcarpet"
           }
          ],
          "heatmap": [
           {
            "colorbar": {
             "outlinewidth": 0,
             "ticks": ""
            },
            "colorscale": [
             [
              0,
              "#0508b8"
             ],
             [
              0.0893854748603352,
              "#1910d8"
             ],
             [
              0.1787709497206704,
              "#3c19f0"
             ],
             [
              0.2681564245810056,
              "#6b1cfb"
             ],
             [
              0.3575418994413408,
              "#981cfd"
             ],
             [
              0.44692737430167595,
              "#bf1cfd"
             ],
             [
              0.5363128491620112,
              "#dd2bfd"
             ],
             [
              0.6256983240223464,
              "#f246fe"
             ],
             [
              0.7150837988826816,
              "#fc67fd"
             ],
             [
              0.8044692737430168,
              "#fe88fc"
             ],
             [
              0.8938547486033519,
              "#fea5fd"
             ],
             [
              0.9832402234636871,
              "#febefe"
             ],
             [
              1,
              "#fec3fe"
             ]
            ],
            "type": "heatmap"
           }
          ],
          "heatmapgl": [
           {
            "colorbar": {
             "outlinewidth": 0,
             "ticks": ""
            },
            "type": "heatmapgl"
           }
          ],
          "histogram": [
           {
            "marker": {
             "colorbar": {
              "outlinewidth": 0,
              "ticks": ""
             }
            },
            "type": "histogram"
           }
          ],
          "histogram2d": [
           {
            "colorbar": {
             "outlinewidth": 0,
             "ticks": ""
            },
            "colorscale": [
             [
              0,
              "#0508b8"
             ],
             [
              0.0893854748603352,
              "#1910d8"
             ],
             [
              0.1787709497206704,
              "#3c19f0"
             ],
             [
              0.2681564245810056,
              "#6b1cfb"
             ],
             [
              0.3575418994413408,
              "#981cfd"
             ],
             [
              0.44692737430167595,
              "#bf1cfd"
             ],
             [
              0.5363128491620112,
              "#dd2bfd"
             ],
             [
              0.6256983240223464,
              "#f246fe"
             ],
             [
              0.7150837988826816,
              "#fc67fd"
             ],
             [
              0.8044692737430168,
              "#fe88fc"
             ],
             [
              0.8938547486033519,
              "#fea5fd"
             ],
             [
              0.9832402234636871,
              "#febefe"
             ],
             [
              1,
              "#fec3fe"
             ]
            ],
            "type": "histogram2d"
           }
          ],
          "histogram2dcontour": [
           {
            "colorbar": {
             "outlinewidth": 0,
             "ticks": ""
            },
            "colorscale": [
             [
              0,
              "#0508b8"
             ],
             [
              0.0893854748603352,
              "#1910d8"
             ],
             [
              0.1787709497206704,
              "#3c19f0"
             ],
             [
              0.2681564245810056,
              "#6b1cfb"
             ],
             [
              0.3575418994413408,
              "#981cfd"
             ],
             [
              0.44692737430167595,
              "#bf1cfd"
             ],
             [
              0.5363128491620112,
              "#dd2bfd"
             ],
             [
              0.6256983240223464,
              "#f246fe"
             ],
             [
              0.7150837988826816,
              "#fc67fd"
             ],
             [
              0.8044692737430168,
              "#fe88fc"
             ],
             [
              0.8938547486033519,
              "#fea5fd"
             ],
             [
              0.9832402234636871,
              "#febefe"
             ],
             [
              1,
              "#fec3fe"
             ]
            ],
            "type": "histogram2dcontour"
           }
          ],
          "mesh3d": [
           {
            "colorbar": {
             "outlinewidth": 0,
             "ticks": ""
            },
            "type": "mesh3d"
           }
          ],
          "parcoords": [
           {
            "line": {
             "colorbar": {
              "outlinewidth": 0,
              "ticks": ""
             }
            },
            "type": "parcoords"
           }
          ],
          "scatter": [
           {
            "marker": {
             "colorbar": {
              "outlinewidth": 0,
              "ticks": ""
             }
            },
            "type": "scatter"
           }
          ],
          "scatter3d": [
           {
            "marker": {
             "colorbar": {
              "outlinewidth": 0,
              "ticks": ""
             }
            },
            "type": "scatter3d"
           }
          ],
          "scattercarpet": [
           {
            "marker": {
             "colorbar": {
              "outlinewidth": 0,
              "ticks": ""
             }
            },
            "type": "scattercarpet"
           }
          ],
          "scattergeo": [
           {
            "marker": {
             "colorbar": {
              "outlinewidth": 0,
              "ticks": ""
             }
            },
            "type": "scattergeo"
           }
          ],
          "scattergl": [
           {
            "marker": {
             "colorbar": {
              "outlinewidth": 0,
              "ticks": ""
             }
            },
            "type": "scattergl"
           }
          ],
          "scattermapbox": [
           {
            "marker": {
             "colorbar": {
              "outlinewidth": 0,
              "ticks": ""
             }
            },
            "type": "scattermapbox"
           }
          ],
          "scatterpolar": [
           {
            "marker": {
             "colorbar": {
              "outlinewidth": 0,
              "ticks": ""
             }
            },
            "type": "scatterpolar"
           }
          ],
          "scatterpolargl": [
           {
            "marker": {
             "colorbar": {
              "outlinewidth": 0,
              "ticks": ""
             }
            },
            "type": "scatterpolargl"
           }
          ],
          "scatterternary": [
           {
            "marker": {
             "colorbar": {
              "outlinewidth": 0,
              "ticks": ""
             }
            },
            "type": "scatterternary"
           }
          ],
          "surface": [
           {
            "colorbar": {
             "outlinewidth": 0,
             "ticks": ""
            },
            "type": "surface"
           }
          ],
          "table": [
           {
            "cells": {
             "fill": {
              "color": "#EBF0F8"
             },
             "line": {
              "color": "white"
             }
            },
            "header": {
             "fill": {
              "color": "#C8D4E3"
             },
             "line": {
              "color": "white"
             }
            },
            "type": "table"
           }
          ]
         },
         "layout": {
          "annotationdefaults": {
           "arrowcolor": "#506784",
           "arrowhead": 0,
           "arrowwidth": 1
          },
          "colorscale": {
           "diverging": [
            [
             0,
             "#8e0152"
            ],
            [
             0.1,
             "#c51b7d"
            ],
            [
             0.2,
             "#de77ae"
            ],
            [
             0.3,
             "#f1b6da"
            ],
            [
             0.4,
             "#fde0ef"
            ],
            [
             0.5,
             "#f7f7f7"
            ],
            [
             0.6,
             "#e6f5d0"
            ],
            [
             0.7,
             "#b8e186"
            ],
            [
             0.8,
             "#7fbc41"
            ],
            [
             0.9,
             "#4d9221"
            ],
            [
             1,
             "#276419"
            ]
           ],
           "sequential": [
            [
             0,
             "#0508b8"
            ],
            [
             0.0893854748603352,
             "#1910d8"
            ],
            [
             0.1787709497206704,
             "#3c19f0"
            ],
            [
             0.2681564245810056,
             "#6b1cfb"
            ],
            [
             0.3575418994413408,
             "#981cfd"
            ],
            [
             0.44692737430167595,
             "#bf1cfd"
            ],
            [
             0.5363128491620112,
             "#dd2bfd"
            ],
            [
             0.6256983240223464,
             "#f246fe"
            ],
            [
             0.7150837988826816,
             "#fc67fd"
            ],
            [
             0.8044692737430168,
             "#fe88fc"
            ],
            [
             0.8938547486033519,
             "#fea5fd"
            ],
            [
             0.9832402234636871,
             "#febefe"
            ],
            [
             1,
             "#fec3fe"
            ]
           ],
           "sequentialminus": [
            [
             0,
             "#0508b8"
            ],
            [
             0.0893854748603352,
             "#1910d8"
            ],
            [
             0.1787709497206704,
             "#3c19f0"
            ],
            [
             0.2681564245810056,
             "#6b1cfb"
            ],
            [
             0.3575418994413408,
             "#981cfd"
            ],
            [
             0.44692737430167595,
             "#bf1cfd"
            ],
            [
             0.5363128491620112,
             "#dd2bfd"
            ],
            [
             0.6256983240223464,
             "#f246fe"
            ],
            [
             0.7150837988826816,
             "#fc67fd"
            ],
            [
             0.8044692737430168,
             "#fe88fc"
            ],
            [
             0.8938547486033519,
             "#fea5fd"
            ],
            [
             0.9832402234636871,
             "#febefe"
            ],
            [
             1,
             "#fec3fe"
            ]
           ]
          },
          "colorway": [
           "#636efa",
           "#EF553B",
           "#00cc96",
           "#ab63fa",
           "#19d3f3",
           "#e763fa",
           "#FECB52",
           "#FFA15A",
           "#FF6692",
           "#B6E880"
          ],
          "font": {
           "color": "#2a3f5f"
          },
          "geo": {
           "bgcolor": "white",
           "lakecolor": "white",
           "landcolor": "#E5ECF6",
           "showlakes": true,
           "showland": true,
           "subunitcolor": "white"
          },
          "hoverlabel": {
           "align": "left"
          },
          "hovermode": "closest",
          "mapbox": {
           "style": "light"
          },
          "paper_bgcolor": "white",
          "plot_bgcolor": "#E5ECF6",
          "polar": {
           "angularaxis": {
            "gridcolor": "white",
            "linecolor": "white",
            "ticks": ""
           },
           "bgcolor": "#E5ECF6",
           "radialaxis": {
            "gridcolor": "white",
            "linecolor": "white",
            "ticks": ""
           }
          },
          "scene": {
           "xaxis": {
            "backgroundcolor": "#E5ECF6",
            "gridcolor": "white",
            "gridwidth": 2,
            "linecolor": "white",
            "showbackground": true,
            "ticks": "",
            "zerolinecolor": "white"
           },
           "yaxis": {
            "backgroundcolor": "#E5ECF6",
            "gridcolor": "white",
            "gridwidth": 2,
            "linecolor": "white",
            "showbackground": true,
            "ticks": "",
            "zerolinecolor": "white"
           },
           "zaxis": {
            "backgroundcolor": "#E5ECF6",
            "gridcolor": "white",
            "gridwidth": 2,
            "linecolor": "white",
            "showbackground": true,
            "ticks": "",
            "zerolinecolor": "white"
           }
          },
          "shapedefaults": {
           "fillcolor": "#506784",
           "line": {
            "width": 0
           },
           "opacity": 0.4
          },
          "ternary": {
           "aaxis": {
            "gridcolor": "white",
            "linecolor": "white",
            "ticks": ""
           },
           "baxis": {
            "gridcolor": "white",
            "linecolor": "white",
            "ticks": ""
           },
           "bgcolor": "#E5ECF6",
           "caxis": {
            "gridcolor": "white",
            "linecolor": "white",
            "ticks": ""
           }
          },
          "title": {
           "x": 0.05
          },
          "xaxis": {
           "automargin": true,
           "gridcolor": "white",
           "linecolor": "white",
           "ticks": "",
           "zerolinecolor": "white",
           "zerolinewidth": 2
          },
          "yaxis": {
           "automargin": true,
           "gridcolor": "white",
           "linecolor": "white",
           "ticks": "",
           "zerolinecolor": "white",
           "zerolinewidth": 2
          }
         }
        },
        "xaxis": {
         "title": {
          "text": "sem_index"
         }
        },
        "yaxis": {
         "title": {
          "text": "pctg_female"
         }
        }
       }
      },
      "text/html": [
       "<div>\n",
       "        \n",
       "        \n",
       "            <div id=\"fcc3ca56-91d0-4a38-b49a-3d146bc92a3f\" class=\"plotly-graph-div\" style=\"height:600px; width:100%;\"></div>\n",
       "            <script type=\"text/javascript\">\n",
       "                require([\"plotly\"], function(Plotly) {\n",
       "                    window.PLOTLYENV=window.PLOTLYENV || {};\n",
       "                    window.PLOTLYENV.BASE_URL='https://plot.ly';\n",
       "                    \n",
       "                if (document.getElementById(\"fcc3ca56-91d0-4a38-b49a-3d146bc92a3f\")) {\n",
       "                    Plotly.newPlot(\n",
       "                        'fcc3ca56-91d0-4a38-b49a-3d146bc92a3f',\n",
       "                        [{\"hoverlabel\": {\"namelength\": 0}, \"hovertemplate\": \"<b>%{hovertext}</b><br><br>degree=Mehr-F\\u00e4cher-Bachelor<br>subject=Allgemeine und vergleichende Literaturwissenschaft<br>sem_index=%{x}<br>pctg_female=%{y}\", \"hovertext\": [\"Allgemeine und vergleichende Literaturwissenschaft\", \"Allgemeine und vergleichende Literaturwissenschaft\", \"Allgemeine und vergleichende Literaturwissenschaft\", \"Allgemeine und vergleichende Literaturwissenschaft\", \"Allgemeine und vergleichende Literaturwissenschaft\", \"Allgemeine und vergleichende Literaturwissenschaft\"], \"legendgroup\": \"degree=Mehr-F\\u00e4cher-Bachelor\", \"line\": {\"color\": \"#636efa\", \"dash\": \"solid\", \"shape\": \"spline\"}, \"mode\": \"lines\", \"name\": \"degree=Mehr-F\\u00e4cher-Bachelor\", \"showlegend\": true, \"type\": \"scatter\", \"uid\": \"fdc338c1-6e62-4762-9808-97263a384059\", \"x\": [0, 1, 2, 3, 4, 5], \"xaxis\": \"x\", \"y\": [0.7510548523206751, 0.7565543071161048, 0.7540322580645161, 0.7568627450980392, 0.7627118644067796, 0.7558139534883721], \"yaxis\": \"y\"}, {\"hoverlabel\": {\"namelength\": 0}, \"hovertemplate\": \"<b>%{hovertext}</b><br><br>degree=Mehr-F\\u00e4cher-Bachelor<br>subject=Philosophie<br>sem_index=%{x}<br>pctg_female=%{y}\", \"hovertext\": [\"Philosophie\", \"Philosophie\", \"Philosophie\", \"Philosophie\", \"Philosophie\", \"Philosophie\"], \"legendgroup\": \"degree=Mehr-F\\u00e4cher-Bachelor\", \"line\": {\"color\": \"#636efa\", \"dash\": \"solid\", \"shape\": \"spline\"}, \"mode\": \"lines\", \"name\": \"degree=Mehr-F\\u00e4cher-Bachelor\", \"showlegend\": false, \"type\": \"scatter\", \"uid\": \"e4ee928d-90a4-4a46-bdc2-b2cf1226df64\", \"x\": [0, 1, 2, 3, 4, 5], \"xaxis\": \"x\", \"y\": [0.4157303370786517, 0.4032258064516129, 0.4005524861878453, 0.4094488188976378, 0.41260744985673353, 0.41411042944785276], \"yaxis\": \"y\"}, {\"hoverlabel\": {\"namelength\": 0}, \"hovertemplate\": \"<b>%{hovertext}</b><br><br>degree=Mehr-F\\u00e4cher-Bachelor<br>subject=Kunstgeschichte mit dem Schwerpunkt Europa und Amerika<br>sem_index=%{x}<br>pctg_female=%{y}\", \"hovertext\": [\"Kunstgeschichte mit dem Schwerpunkt Europa und Amerika\", \"Kunstgeschichte mit dem Schwerpunkt Europa und Amerika\", \"Kunstgeschichte mit dem Schwerpunkt Europa und Amerika\", \"Kunstgeschichte mit dem Schwerpunkt Europa und Amerika\", \"Kunstgeschichte mit dem Schwerpunkt Europa und Amerika\", \"Kunstgeschichte mit dem Schwerpunkt Europa und Amerika\"], \"legendgroup\": \"degree=Mehr-F\\u00e4cher-Bachelor\", \"line\": {\"color\": \"#636efa\", \"dash\": \"solid\", \"shape\": \"spline\"}, \"mode\": \"lines\", \"name\": \"degree=Mehr-F\\u00e4cher-Bachelor\", \"showlegend\": false, \"type\": \"scatter\", \"uid\": \"b58beea3-6435-4cf5-8592-868b98017608\", \"x\": [0, 1, 2, 3, 4, 5], \"xaxis\": \"x\", \"y\": [0.8091106290672451, 0.7983539094650206, 0.8013100436681223, 0.8020618556701031, 0.7995594713656388, 0.8103448275862069], \"yaxis\": \"y\"}, {\"hoverlabel\": {\"namelength\": 0}, \"hovertemplate\": \"<b>%{hovertext}</b><br><br>degree=Mehr-F\\u00e4cher-Bachelor<br>subject=Sozial- und Kulturanthropologie<br>sem_index=%{x}<br>pctg_female=%{y}\", \"hovertext\": [\"Sozial- und Kulturanthropologie\", \"Sozial- und Kulturanthropologie\", \"Sozial- und Kulturanthropologie\", \"Sozial- und Kulturanthropologie\", \"Sozial- und Kulturanthropologie\", \"Sozial- und Kulturanthropologie\"], \"legendgroup\": \"degree=Mehr-F\\u00e4cher-Bachelor\", \"line\": {\"color\": \"#636efa\", \"dash\": \"solid\", \"shape\": \"spline\"}, \"mode\": \"lines\", \"name\": \"degree=Mehr-F\\u00e4cher-Bachelor\", \"showlegend\": false, \"type\": \"scatter\", \"uid\": \"494b8f1c-5fb1-4281-9f05-45475246396c\", \"x\": [0, 1, 2, 3, 4, 5], \"xaxis\": \"x\", \"y\": [0.8241042345276873, 0.821875, 0.8295081967213115, 0.8218390804597702, 0.7552870090634441, 0.7994350282485876], \"yaxis\": \"y\"}, {\"hoverlabel\": {\"namelength\": 0}, \"hovertemplate\": \"<b>%{hovertext}</b><br><br>degree=Mehr-F\\u00e4cher-Bachelor<br>subject=Theaterwissenschaft<br>sem_index=%{x}<br>pctg_female=%{y}\", \"hovertext\": [\"Theaterwissenschaft\", \"Theaterwissenschaft\", \"Theaterwissenschaft\", \"Theaterwissenschaft\", \"Theaterwissenschaft\", \"Theaterwissenschaft\"], \"legendgroup\": \"degree=Mehr-F\\u00e4cher-Bachelor\", \"line\": {\"color\": \"#636efa\", \"dash\": \"solid\", \"shape\": \"spline\"}, \"mode\": \"lines\", \"name\": \"degree=Mehr-F\\u00e4cher-Bachelor\", \"showlegend\": false, \"type\": \"scatter\", \"uid\": \"fb78a901-0b3a-49ee-b70c-f2e3ce429b0c\", \"x\": [0, 1, 2, 3, 4, 5], \"xaxis\": \"x\", \"y\": [0.7634961439588689, 0.7567567567567568, 0.7578125, 0.7692307692307693, 0.7655860349127181, 0.8276699029126213], \"yaxis\": \"y\"}, {\"hoverlabel\": {\"namelength\": 0}, \"hovertemplate\": \"<b>%{hovertext}</b><br><br>degree=Mehr-F\\u00e4cher-Bachelor<br>subject=Publizistik und Kommunikationswissenschaft<br>sem_index=%{x}<br>pctg_female=%{y}\", \"hovertext\": [\"Publizistik und Kommunikationswissenschaft\", \"Publizistik und Kommunikationswissenschaft\", \"Publizistik und Kommunikationswissenschaft\", \"Publizistik und Kommunikationswissenschaft\", \"Publizistik und Kommunikationswissenschaft\", \"Publizistik und Kommunikationswissenschaft\"], \"legendgroup\": \"degree=Mehr-F\\u00e4cher-Bachelor\", \"line\": {\"color\": \"#636efa\", \"dash\": \"solid\", \"shape\": \"spline\"}, \"mode\": \"lines\", \"name\": \"degree=Mehr-F\\u00e4cher-Bachelor\", \"showlegend\": false, \"type\": \"scatter\", \"uid\": \"528d8e5b-8e29-4480-86ca-9a80a1e34fd6\", \"x\": [0, 1, 2, 3, 4, 5], \"xaxis\": \"x\", \"y\": [0.738819320214669, 0.7308377896613191, 0.720703125, 0.6974169741697417, 0.682261208576998, 0.7109515260323159], \"yaxis\": \"y\"}, {\"hoverlabel\": {\"namelength\": 0}, \"hovertemplate\": \"<b>%{hovertext}</b><br><br>degree=Mehr-F\\u00e4cher-Bachelor<br>subject=Filmwissenschaft<br>sem_index=%{x}<br>pctg_female=%{y}\", \"hovertext\": [\"Filmwissenschaft\", \"Filmwissenschaft\", \"Filmwissenschaft\", \"Filmwissenschaft\", \"Filmwissenschaft\", \"Filmwissenschaft\"], \"legendgroup\": \"degree=Mehr-F\\u00e4cher-Bachelor\", \"line\": {\"color\": \"#636efa\", \"dash\": \"solid\", \"shape\": \"spline\"}, \"mode\": \"lines\", \"name\": \"degree=Mehr-F\\u00e4cher-Bachelor\", \"showlegend\": false, \"type\": \"scatter\", \"uid\": \"5d0b9cf5-c0bd-46a4-9b7d-d40422ab12ad\", \"x\": [0, 1, 2, 3, 4, 5], \"xaxis\": \"x\", \"y\": [0.645021645021645, 0.6224899598393574, 0.6182572614107884, 0.5917602996254682, 0.5849802371541502, 0.5566343042071198], \"yaxis\": \"y\"}, {\"hoverlabel\": {\"namelength\": 0}, \"hovertemplate\": \"<b>%{hovertext}</b><br><br>degree=Mehr-F\\u00e4cher-Bachelor<br>subject=Geschichte<br>sem_index=%{x}<br>pctg_female=%{y}\", \"hovertext\": [\"Geschichte\", \"Geschichte\", \"Geschichte\", \"Geschichte\", \"Geschichte\", \"Geschichte\"], \"legendgroup\": \"degree=Mehr-F\\u00e4cher-Bachelor\", \"line\": {\"color\": \"#636efa\", \"dash\": \"solid\", \"shape\": \"spline\"}, \"mode\": \"lines\", \"name\": \"degree=Mehr-F\\u00e4cher-Bachelor\", \"showlegend\": false, \"type\": \"scatter\", \"uid\": \"0c10b99e-63ed-4507-9444-b8f78a2a2a7d\", \"x\": [0, 1, 2, 3, 4, 5], \"xaxis\": \"x\", \"y\": [0.43768115942028984, 0.45403899721448465, 0.4551083591331269, 0.4581005586592179, 0.4597014925373134, 0.4657534246575342], \"yaxis\": \"y\"}, {\"hoverlabel\": {\"namelength\": 0}, \"hovertemplate\": \"<b>%{hovertext}</b><br><br>degree=Mehr-F\\u00e4cher-Bachelor<br>subject=Deutsch / Deutsche Philologie<br>sem_index=%{x}<br>pctg_female=%{y}\", \"hovertext\": [\"Deutsch / Deutsche Philologie\", \"Deutsch / Deutsche Philologie\", \"Deutsch / Deutsche Philologie\", \"Deutsch / Deutsche Philologie\", \"Deutsch / Deutsche Philologie\", \"Deutsch / Deutsche Philologie\"], \"legendgroup\": \"degree=Mehr-F\\u00e4cher-Bachelor\", \"line\": {\"color\": \"#636efa\", \"dash\": \"solid\", \"shape\": \"spline\"}, \"mode\": \"lines\", \"name\": \"degree=Mehr-F\\u00e4cher-Bachelor\", \"showlegend\": false, \"type\": \"scatter\", \"uid\": \"6ef08240-072d-4bca-9d68-9d65cf4ab741\", \"x\": [0, 1, 2, 3, 4, 5], \"xaxis\": \"x\", \"y\": [0.7682926829268293, 0.8005865102639296, 0.8132911392405063, 0.8103448275862069, 0.8082706766917294, 0.7946768060836502], \"yaxis\": \"y\"}, {\"hoverlabel\": {\"namelength\": 0}, \"hovertemplate\": \"<b>%{hovertext}</b><br><br>degree=Mehr-F\\u00e4cher-Bachelor<br>subject=Englisch / Englische Philologie<br>sem_index=%{x}<br>pctg_female=%{y}\", \"hovertext\": [\"Englisch / Englische Philologie\"], \"legendgroup\": \"degree=Mehr-F\\u00e4cher-Bachelor\", \"line\": {\"color\": \"#636efa\", \"dash\": \"solid\", \"shape\": \"spline\"}, \"mode\": \"lines\", \"name\": \"degree=Mehr-F\\u00e4cher-Bachelor\", \"showlegend\": false, \"type\": \"scatter\", \"uid\": \"6852b8cf-07c2-4af7-a2ee-46a00283c550\", \"x\": [5], \"xaxis\": \"x\", \"y\": [0.8104265402843602], \"yaxis\": \"y\"}, {\"hoverlabel\": {\"namelength\": 0}, \"hovertemplate\": \"<b>%{hovertext}</b><br><br>degree=Bachelor<br>subject=Mathematik<br>sem_index=%{x}<br>pctg_female=%{y}\", \"hovertext\": [\"Mathematik\", \"Mathematik\", \"Mathematik\", \"Mathematik\", \"Mathematik\", \"Mathematik\"], \"legendgroup\": \"degree=Bachelor\", \"line\": {\"color\": \"#EF553B\", \"dash\": \"solid\", \"shape\": \"spline\"}, \"mode\": \"lines\", \"name\": \"degree=Bachelor\", \"showlegend\": true, \"type\": \"scatter\", \"uid\": \"6ed47ba0-f60e-4ef9-bc14-5448724a7f47\", \"x\": [0, 1, 2, 3, 4, 5], \"xaxis\": \"x\", \"y\": [0.39816933638443935, 0.3987473903966597, 0.3870192307692308, 0.4307400379506641, 0.3977272727272727, 0.4053030303030303], \"yaxis\": \"y\"}, {\"hoverlabel\": {\"namelength\": 0}, \"hovertemplate\": \"<b>%{hovertext}</b><br><br>degree=Bachelor<br>subject=Nordamerikastudien<br>sem_index=%{x}<br>pctg_female=%{y}\", \"hovertext\": [\"Nordamerikastudien\", \"Nordamerikastudien\", \"Nordamerikastudien\", \"Nordamerikastudien\", \"Nordamerikastudien\"], \"legendgroup\": \"degree=Bachelor\", \"line\": {\"color\": \"#EF553B\", \"dash\": \"solid\", \"shape\": \"spline\"}, \"mode\": \"lines\", \"name\": \"degree=Bachelor\", \"showlegend\": false, \"type\": \"scatter\", \"uid\": \"0e71e268-2fa9-4d65-a471-f94c689d2936\", \"x\": [1, 2, 3, 4, 5], \"xaxis\": \"x\", \"y\": [0.6213592233009708, 0.645320197044335, 0.5946969696969697, 0.5896414342629482, 0.5699300699300699], \"yaxis\": \"y\"}, {\"hoverlabel\": {\"namelength\": 0}, \"hovertemplate\": \"<b>%{hovertext}</b><br><br>degree=Bachelor<br>subject=Physik<br>sem_index=%{x}<br>pctg_female=%{y}\", \"hovertext\": [\"Physik\", \"Physik\", \"Physik\", \"Physik\", \"Physik\", \"Physik\"], \"legendgroup\": \"degree=Bachelor\", \"line\": {\"color\": \"#EF553B\", \"dash\": \"solid\", \"shape\": \"spline\"}, \"mode\": \"lines\", \"name\": \"degree=Bachelor\", \"showlegend\": false, \"type\": \"scatter\", \"uid\": \"a14c0983-0280-43ef-a482-6ce831a046f5\", \"x\": [0, 1, 2, 3, 4, 5], \"xaxis\": \"x\", \"y\": [0.28823529411764703, 0.27586206896551724, 0.2852852852852853, 0.3125, 0.28851540616246496, 0.3], \"yaxis\": \"y\"}, {\"hoverlabel\": {\"namelength\": 0}, \"hovertemplate\": \"<b>%{hovertext}</b><br><br>degree=Bachelor<br>subject=Politikwissenschaft<br>sem_index=%{x}<br>pctg_female=%{y}\", \"hovertext\": [\"Politikwissenschaft\", \"Politikwissenschaft\", \"Politikwissenschaft\", \"Politikwissenschaft\", \"Politikwissenschaft\", \"Politikwissenschaft\"], \"legendgroup\": \"degree=Bachelor\", \"line\": {\"color\": \"#EF553B\", \"dash\": \"solid\", \"shape\": \"spline\"}, \"mode\": \"lines\", \"name\": \"degree=Bachelor\", \"showlegend\": false, \"type\": \"scatter\", \"uid\": \"2477f2bd-a1f8-4f82-8453-b1094561fe95\", \"x\": [0, 1, 2, 3, 4, 5], \"xaxis\": \"x\", \"y\": [0.4733009708737864, 0.48252536640360766, 0.47919143876337694, 0.4845360824742268, 0.48964677222898906, 0.484393063583815], \"yaxis\": \"y\"}, {\"hoverlabel\": {\"namelength\": 0}, \"hovertemplate\": \"<b>%{hovertext}</b><br><br>degree=Bachelor<br>subject=Volkswirtschaftslehre<br>sem_index=%{x}<br>pctg_female=%{y}\", \"hovertext\": [\"Volkswirtschaftslehre\", \"Volkswirtschaftslehre\", \"Volkswirtschaftslehre\", \"Volkswirtschaftslehre\", \"Volkswirtschaftslehre\", \"Volkswirtschaftslehre\"], \"legendgroup\": \"degree=Bachelor\", \"line\": {\"color\": \"#EF553B\", \"dash\": \"solid\", \"shape\": \"spline\"}, \"mode\": \"lines\", \"name\": \"degree=Bachelor\", \"showlegend\": false, \"type\": \"scatter\", \"uid\": \"efe0188c-6785-4b42-a159-0e8942cf94ef\", \"x\": [0, 1, 2, 3, 4, 5], \"xaxis\": \"x\", \"y\": [0.3471933471933472, 0.3474576271186441, 0.337037037037037, 0.3486529318541997, 0.3479020979020979, 0.3848797250859107], \"yaxis\": \"y\"}, {\"hoverlabel\": {\"namelength\": 0}, \"hovertemplate\": \"<b>%{hovertext}</b><br><br>degree=Bachelor<br>subject=Psychologie<br>sem_index=%{x}<br>pctg_female=%{y}\", \"hovertext\": [\"Psychologie\", \"Psychologie\", \"Psychologie\", \"Psychologie\", \"Psychologie\", \"Psychologie\"], \"legendgroup\": \"degree=Bachelor\", \"line\": {\"color\": \"#EF553B\", \"dash\": \"solid\", \"shape\": \"spline\"}, \"mode\": \"lines\", \"name\": \"degree=Bachelor\", \"showlegend\": false, \"type\": \"scatter\", \"uid\": \"9f003892-e3d7-472b-b1c9-d3e45e54001a\", \"x\": [0, 1, 2, 3, 4, 5], \"xaxis\": \"x\", \"y\": [0.7676579925650557, 0.7692307692307693, 0.7621527777777778, 0.7616099071207431, 0.7569331158238173, 0.7605633802816901], \"yaxis\": \"y\"}, {\"hoverlabel\": {\"namelength\": 0}, \"hovertemplate\": \"<b>%{hovertext}</b><br><br>degree=Bachelor<br>subject=Japanstudien/Ostasienwissenschaften<br>sem_index=%{x}<br>pctg_female=%{y}\", \"hovertext\": [\"Japanstudien/Ostasienwissenschaften\", \"Japanstudien/Ostasienwissenschaften\", \"Japanstudien/Ostasienwissenschaften\", \"Japanstudien/Ostasienwissenschaften\", \"Japanstudien/Ostasienwissenschaften\", \"Japanstudien/Ostasienwissenschaften\"], \"legendgroup\": \"degree=Bachelor\", \"line\": {\"color\": \"#EF553B\", \"dash\": \"solid\", \"shape\": \"spline\"}, \"mode\": \"lines\", \"name\": \"degree=Bachelor\", \"showlegend\": false, \"type\": \"scatter\", \"uid\": \"60947e6f-af57-471b-8a70-6ba9a175efcc\", \"x\": [0, 1, 2, 3, 4, 5], \"xaxis\": \"x\", \"y\": [0.6133333333333333, 0.6284584980237155, 0.6475770925110133, 0.6302816901408451, 0.6341463414634146, 0.5845588235294118], \"yaxis\": \"y\"}, {\"hoverlabel\": {\"namelength\": 0}, \"hovertemplate\": \"<b>%{hovertext}</b><br><br>degree=Bachelor<br>subject=Betriebswirtschaftslehre<br>sem_index=%{x}<br>pctg_female=%{y}\", \"hovertext\": [\"Betriebswirtschaftslehre\", \"Betriebswirtschaftslehre\", \"Betriebswirtschaftslehre\", \"Betriebswirtschaftslehre\", \"Betriebswirtschaftslehre\", \"Betriebswirtschaftslehre\"], \"legendgroup\": \"degree=Bachelor\", \"line\": {\"color\": \"#EF553B\", \"dash\": \"solid\", \"shape\": \"spline\"}, \"mode\": \"lines\", \"name\": \"degree=Bachelor\", \"showlegend\": false, \"type\": \"scatter\", \"uid\": \"f64d7de8-efec-4ded-b1c2-52752a1eb373\", \"x\": [0, 1, 2, 3, 4, 5], \"xaxis\": \"x\", \"y\": [0.5472103004291845, 0.53515625, 0.5334018499486125, 0.5195424213536701, 0.5119418483904465, 0.4968036529680365], \"yaxis\": \"y\"}, {\"hoverlabel\": {\"namelength\": 0}, \"hovertemplate\": \"<b>%{hovertext}</b><br><br>degree=Bachelor<br>subject=Bildungs- und Erziehungswissenschaft<br>sem_index=%{x}<br>pctg_female=%{y}\", \"hovertext\": [\"Bildungs- und Erziehungswissenschaft\", \"Bildungs- und Erziehungswissenschaft\", \"Bildungs- und Erziehungswissenschaft\", \"Bildungs- und Erziehungswissenschaft\", \"Bildungs- und Erziehungswissenschaft\", \"Bildungs- und Erziehungswissenschaft\"], \"legendgroup\": \"degree=Bachelor\", \"line\": {\"color\": \"#EF553B\", \"dash\": \"solid\", \"shape\": \"spline\"}, \"mode\": \"lines\", \"name\": \"degree=Bachelor\", \"showlegend\": false, \"type\": \"scatter\", \"uid\": \"181cb381-ab6f-42ab-bf7e-d93c4b73c607\", \"x\": [0, 1, 2, 3, 4, 5], \"xaxis\": \"x\", \"y\": [0.8166666666666667, 0.7983870967741935, 0.7908496732026143, 0.7967806841046278, 0.7944915254237288, 0.7992125984251969], \"yaxis\": \"y\"}, {\"hoverlabel\": {\"namelength\": 0}, \"hovertemplate\": \"<b>%{hovertext}</b><br><br>degree=Bachelor<br>subject=Biochemie<br>sem_index=%{x}<br>pctg_female=%{y}\", \"hovertext\": [\"Biochemie\", \"Biochemie\", \"Biochemie\", \"Biochemie\", \"Biochemie\", \"Biochemie\"], \"legendgroup\": \"degree=Bachelor\", \"line\": {\"color\": \"#EF553B\", \"dash\": \"solid\", \"shape\": \"spline\"}, \"mode\": \"lines\", \"name\": \"degree=Bachelor\", \"showlegend\": false, \"type\": \"scatter\", \"uid\": \"19c64d7b-7db3-4756-8e8c-73304de334d0\", \"x\": [0, 1, 2, 3, 4, 5], \"xaxis\": \"x\", \"y\": [0.6176470588235294, 0.5929203539823009, 0.5799086757990868, 0.5898617511520737, 0.6033057851239669, 0.6099585062240664], \"yaxis\": \"y\"}, {\"hoverlabel\": {\"namelength\": 0}, \"hovertemplate\": \"<b>%{hovertext}</b><br><br>degree=Bachelor<br>subject=Bioinformatik<br>sem_index=%{x}<br>pctg_female=%{y}\", \"hovertext\": [\"Bioinformatik\", \"Bioinformatik\", \"Bioinformatik\", \"Bioinformatik\", \"Bioinformatik\", \"Bioinformatik\"], \"legendgroup\": \"degree=Bachelor\", \"line\": {\"color\": \"#EF553B\", \"dash\": \"solid\", \"shape\": \"spline\"}, \"mode\": \"lines\", \"name\": \"degree=Bachelor\", \"showlegend\": false, \"type\": \"scatter\", \"uid\": \"6baad840-72ff-4946-9859-e44b9f882a1d\", \"x\": [0, 1, 2, 3, 4, 5], \"xaxis\": \"x\", \"y\": [0.3835616438356164, 0.4334763948497854, 0.40444444444444444, 0.46464646464646464, 0.47183098591549294, 0.4620253164556962], \"yaxis\": \"y\"}, {\"hoverlabel\": {\"namelength\": 0}, \"hovertemplate\": \"<b>%{hovertext}</b><br><br>degree=Bachelor<br>subject=Biologie<br>sem_index=%{x}<br>pctg_female=%{y}\", \"hovertext\": [\"Biologie\", \"Biologie\", \"Biologie\", \"Biologie\", \"Biologie\", \"Biologie\"], \"legendgroup\": \"degree=Bachelor\", \"line\": {\"color\": \"#EF553B\", \"dash\": \"solid\", \"shape\": \"spline\"}, \"mode\": \"lines\", \"name\": \"degree=Bachelor\", \"showlegend\": false, \"type\": \"scatter\", \"uid\": \"46b8a3cd-4198-42ec-a3f8-14951fd9a1f1\", \"x\": [0, 1, 2, 3, 4, 5], \"xaxis\": \"x\", \"y\": [0.6986899563318777, 0.6814814814814815, 0.6844262295081968, 0.6986301369863014, 0.6993865030674846, 0.6930320150659134], \"yaxis\": \"y\"}, {\"hoverlabel\": {\"namelength\": 0}, \"hovertemplate\": \"<b>%{hovertext}</b><br><br>degree=Bachelor<br>subject=Chemie<br>sem_index=%{x}<br>pctg_female=%{y}\", \"hovertext\": [\"Chemie\", \"Chemie\", \"Chemie\", \"Chemie\", \"Chemie\", \"Chemie\"], \"legendgroup\": \"degree=Bachelor\", \"line\": {\"color\": \"#EF553B\", \"dash\": \"solid\", \"shape\": \"spline\"}, \"mode\": \"lines\", \"name\": \"degree=Bachelor\", \"showlegend\": false, \"type\": \"scatter\", \"uid\": \"062751eb-ef90-4f77-b8ae-884f8c098e28\", \"x\": [0, 1, 2, 3, 4, 5], \"xaxis\": \"x\", \"y\": [0.3940298507462687, 0.3958333333333333, 0.42105263157894735, 0.40710382513661203, 0.416, 0.4139650872817955], \"yaxis\": \"y\"}, {\"hoverlabel\": {\"namelength\": 0}, \"hovertemplate\": \"<b>%{hovertext}</b><br><br>degree=Bachelor<br>subject=Chinastudien/Ostasienwissenschaften<br>sem_index=%{x}<br>pctg_female=%{y}\", \"hovertext\": [\"Chinastudien/Ostasienwissenschaften\", \"Chinastudien/Ostasienwissenschaften\", \"Chinastudien/Ostasienwissenschaften\", \"Chinastudien/Ostasienwissenschaften\", \"Chinastudien/Ostasienwissenschaften\"], \"legendgroup\": \"degree=Bachelor\", \"line\": {\"color\": \"#EF553B\", \"dash\": \"solid\", \"shape\": \"spline\"}, \"mode\": \"lines\", \"name\": \"degree=Bachelor\", \"showlegend\": false, \"type\": \"scatter\", \"uid\": \"5b47c414-16ac-4c11-b9b7-c37ae2b3fcf4\", \"x\": [0, 1, 2, 3, 5], \"xaxis\": \"x\", \"y\": [0.601593625498008, 0.5925925925925926, 0.576036866359447, 0.5859030837004405, 0.6172248803827751], \"yaxis\": \"y\"}, {\"hoverlabel\": {\"namelength\": 0}, \"hovertemplate\": \"<b>%{hovertext}</b><br><br>degree=Bachelor<br>subject=Geographische Wissenschaften<br>sem_index=%{x}<br>pctg_female=%{y}\", \"hovertext\": [\"Geographische Wissenschaften\", \"Geographische Wissenschaften\", \"Geographische Wissenschaften\", \"Geographische Wissenschaften\", \"Geographische Wissenschaften\", \"Geographische Wissenschaften\"], \"legendgroup\": \"degree=Bachelor\", \"line\": {\"color\": \"#EF553B\", \"dash\": \"solid\", \"shape\": \"spline\"}, \"mode\": \"lines\", \"name\": \"degree=Bachelor\", \"showlegend\": false, \"type\": \"scatter\", \"uid\": \"8a701001-c0c6-4800-8c3c-f877fe938cd4\", \"x\": [0, 1, 2, 3, 4, 5], \"xaxis\": \"x\", \"y\": [0.40145985401459855, 0.3824175824175824, 0.38369304556354916, 0.38562091503267976, 0.39667458432304037, 0.37662337662337664], \"yaxis\": \"y\"}, {\"hoverlabel\": {\"namelength\": 0}, \"hovertemplate\": \"<b>%{hovertext}</b><br><br>degree=Bachelor<br>subject=Geologische Wissenschaften<br>sem_index=%{x}<br>pctg_female=%{y}\", \"hovertext\": [\"Geologische Wissenschaften\", \"Geologische Wissenschaften\", \"Geologische Wissenschaften\", \"Geologische Wissenschaften\", \"Geologische Wissenschaften\", \"Geologische Wissenschaften\"], \"legendgroup\": \"degree=Bachelor\", \"line\": {\"color\": \"#EF553B\", \"dash\": \"solid\", \"shape\": \"spline\"}, \"mode\": \"lines\", \"name\": \"degree=Bachelor\", \"showlegend\": false, \"type\": \"scatter\", \"uid\": \"8da21b8a-2e53-4cdd-b806-b71baf43135a\", \"x\": [0, 1, 2, 3, 4, 5], \"xaxis\": \"x\", \"y\": [0.36619718309859156, 0.3665768194070081, 0.3554913294797688, 0.39275766016713093, 0.3778501628664495, 0.4099722991689751], \"yaxis\": \"y\"}, {\"hoverlabel\": {\"namelength\": 0}, \"hovertemplate\": \"<b>%{hovertext}</b><br><br>degree=Bachelor<br>subject=Geschichte und Kultur des Vorderen Orients mit Schwerpunkt:\\rIslamwissenschaft<br>sem_index=%{x}<br>pctg_female=%{y}\", \"hovertext\": [\"Geschichte und Kultur des Vorderen Orients mit Schwerpunkt:\\rIslamwissenschaft\", \"Geschichte und Kultur des Vorderen Orients mit Schwerpunkt:\\rIslamwissenschaft\", \"Geschichte und Kultur des Vorderen Orients mit Schwerpunkt:\\rIslamwissenschaft\", \"Geschichte und Kultur des Vorderen Orients mit Schwerpunkt:\\rIslamwissenschaft\", \"Geschichte und Kultur des Vorderen Orients mit Schwerpunkt:\\rIslamwissenschaft\", \"Geschichte und Kultur des Vorderen Orients mit Schwerpunkt:\\rIslamwissenschaft\"], \"legendgroup\": \"degree=Bachelor\", \"line\": {\"color\": \"#EF553B\", \"dash\": \"solid\", \"shape\": \"spline\"}, \"mode\": \"lines\", \"name\": \"degree=Bachelor\", \"showlegend\": false, \"type\": \"scatter\", \"uid\": \"e80cc93f-77b0-4b03-97fc-94e00b6968ee\", \"x\": [0, 1, 2, 3, 4, 5], \"xaxis\": \"x\", \"y\": [0.7254901960784313, 0.7333333333333333, 0.719047619047619, 0.6986301369863014, 0.6746411483253588, 0.6666666666666666], \"yaxis\": \"y\"}, {\"hoverlabel\": {\"namelength\": 0}, \"hovertemplate\": \"<b>%{hovertext}</b><br><br>degree=Bachelor<br>subject=Informatik<br>sem_index=%{x}<br>pctg_female=%{y}\", \"hovertext\": [\"Informatik\", \"Informatik\", \"Informatik\", \"Informatik\", \"Informatik\", \"Informatik\"], \"legendgroup\": \"degree=Bachelor\", \"line\": {\"color\": \"#EF553B\", \"dash\": \"solid\", \"shape\": \"spline\"}, \"mode\": \"lines\", \"name\": \"degree=Bachelor\", \"showlegend\": false, \"type\": \"scatter\", \"uid\": \"8da7305e-eb40-4153-a965-d8a946eb7439\", \"x\": [0, 1, 2, 3, 4, 5], \"xaxis\": \"x\", \"y\": [0.19975932611311673, 0.2294757665677547, 0.2244668911335578, 0.20815450643776823, 0.2115839243498818, 0.2026431718061674], \"yaxis\": \"y\"}, {\"hoverlabel\": {\"namelength\": 0}, \"hovertemplate\": \"<b>%{hovertext}</b><br><br>degree=Bachelor<br>subject=Koreastudien/Ostasienwissenschaften<br>sem_index=%{x}<br>pctg_female=%{y}\", \"hovertext\": [\"Koreastudien/Ostasienwissenschaften\", \"Koreastudien/Ostasienwissenschaften\"], \"legendgroup\": \"degree=Bachelor\", \"line\": {\"color\": \"#EF553B\", \"dash\": \"solid\", \"shape\": \"spline\"}, \"mode\": \"lines\", \"name\": \"degree=Bachelor\", \"showlegend\": false, \"type\": \"scatter\", \"uid\": \"2566692a-59e4-4421-aa43-5401e3dd8015\", \"x\": [3, 5], \"xaxis\": \"x\", \"y\": [0.8038277511961722, 0.819047619047619], \"yaxis\": \"y\"}, {\"hoverlabel\": {\"namelength\": 0}, \"hovertemplate\": \"<b>%{hovertext}</b><br><br>degree=Bachelor<br>subject=Meteorologie<br>sem_index=%{x}<br>pctg_female=%{y}\", \"hovertext\": [\"Meteorologie\"], \"legendgroup\": \"degree=Bachelor\", \"line\": {\"color\": \"#EF553B\", \"dash\": \"solid\", \"shape\": \"spline\"}, \"mode\": \"lines\", \"name\": \"degree=Bachelor\", \"showlegend\": false, \"type\": \"scatter\", \"uid\": \"1bec4707-4d59-4eca-9a57-e00b7eb7414f\", \"x\": [5], \"xaxis\": \"x\", \"y\": [0.3886255924170616], \"yaxis\": \"y\"}, {\"hoverlabel\": {\"namelength\": 0}, \"hovertemplate\": \"<b>%{hovertext}</b><br><br>degree=Bachelor<br>subject=Medieninformatik<br>sem_index=%{x}<br>pctg_female=%{y}\", \"hovertext\": [\"Medieninformatik\"], \"legendgroup\": \"degree=Bachelor\", \"line\": {\"color\": \"#EF553B\", \"dash\": \"solid\", \"shape\": \"spline\"}, \"mode\": \"lines\", \"name\": \"degree=Bachelor\", \"showlegend\": false, \"type\": \"scatter\", \"uid\": \"c89bd1e9-4088-494d-ac43-3a41861f283c\", \"x\": [5], \"xaxis\": \"x\", \"y\": [0.44954128440366975], \"yaxis\": \"y\"}, {\"hoverlabel\": {\"namelength\": 0}, \"hovertemplate\": \"<b>%{hovertext}</b><br><br>degree=Master<br>subject=Nordamerikastudien<br>sem_index=%{x}<br>pctg_female=%{y}\", \"hovertext\": [\"Nordamerikastudien\", \"Nordamerikastudien\", \"Nordamerikastudien\", \"Nordamerikastudien\", \"Nordamerikastudien\", \"Nordamerikastudien\"], \"legendgroup\": \"degree=Master\", \"line\": {\"color\": \"#00cc96\", \"dash\": \"solid\", \"shape\": \"spline\"}, \"mode\": \"lines\", \"name\": \"degree=Master\", \"showlegend\": true, \"type\": \"scatter\", \"uid\": \"96981006-70c7-452c-b33b-57d40fa1e30e\", \"x\": [0, 1, 2, 3, 4, 5], \"xaxis\": \"x\", \"y\": [0.5970873786407767, 0.55893536121673, 0.5588235294117647, 0.5757575757575758, 0.5608856088560885, 0.577922077922078], \"yaxis\": \"y\"}, {\"hoverlabel\": {\"namelength\": 0}, \"hovertemplate\": \"<b>%{hovertext}</b><br><br>degree=Master<br>subject=Philosophie<br>sem_index=%{x}<br>pctg_female=%{y}\", \"hovertext\": [\"Philosophie\", \"Philosophie\"], \"legendgroup\": \"degree=Master\", \"line\": {\"color\": \"#00cc96\", \"dash\": \"solid\", \"shape\": \"spline\"}, \"mode\": \"lines\", \"name\": \"degree=Master\", \"showlegend\": false, \"type\": \"scatter\", \"uid\": \"816e1dbb-4328-4a0e-8369-88b09129c1e7\", \"x\": [3, 5], \"xaxis\": \"x\", \"y\": [0.3961352657004831, 0.40669856459330145], \"yaxis\": \"y\"}, {\"hoverlabel\": {\"namelength\": 0}, \"hovertemplate\": \"<b>%{hovertext}</b><br><br>degree=Master<br>subject=Politikwissenschaft<br>sem_index=%{x}<br>pctg_female=%{y}\", \"hovertext\": [\"Politikwissenschaft\", \"Politikwissenschaft\", \"Politikwissenschaft\", \"Politikwissenschaft\", \"Politikwissenschaft\", \"Politikwissenschaft\"], \"legendgroup\": \"degree=Master\", \"line\": {\"color\": \"#00cc96\", \"dash\": \"solid\", \"shape\": \"spline\"}, \"mode\": \"lines\", \"name\": \"degree=Master\", \"showlegend\": false, \"type\": \"scatter\", \"uid\": \"f49c3ef1-5699-4f8c-b0ed-ad2fac6fa7d8\", \"x\": [0, 1, 2, 3, 4, 5], \"xaxis\": \"x\", \"y\": [0.496875, 0.5345268542199488, 0.5280898876404494, 0.5286783042394015, 0.5263157894736842, 0.5527638190954773], \"yaxis\": \"y\"}, {\"hoverlabel\": {\"namelength\": 0}, \"hovertemplate\": \"<b>%{hovertext}</b><br><br>degree=Master<br>subject=Kunstgeschichte im globalen Kontext davon Schwerpunkt:\\rEuropa und Amerika<br>sem_index=%{x}<br>pctg_female=%{y}\", \"hovertext\": [\"Kunstgeschichte im globalen Kontext davon Schwerpunkt:\\rEuropa und Amerika\", \"Kunstgeschichte im globalen Kontext davon Schwerpunkt:\\rEuropa und Amerika\", \"Kunstgeschichte im globalen Kontext davon Schwerpunkt:\\rEuropa und Amerika\", \"Kunstgeschichte im globalen Kontext davon Schwerpunkt:\\rEuropa und Amerika\", \"Kunstgeschichte im globalen Kontext davon Schwerpunkt:\\rEuropa und Amerika\", \"Kunstgeschichte im globalen Kontext davon Schwerpunkt:\\rEuropa und Amerika\"], \"legendgroup\": \"degree=Master\", \"line\": {\"color\": \"#00cc96\", \"dash\": \"solid\", \"shape\": \"spline\"}, \"mode\": \"lines\", \"name\": \"degree=Master\", \"showlegend\": false, \"type\": \"scatter\", \"uid\": \"a8d3914a-3a46-4b33-9203-8b2a29e64a29\", \"x\": [0, 1, 2, 3, 4, 5], \"xaxis\": \"x\", \"y\": [0.8207547169811321, 0.852589641434263, 0.8491379310344828, 0.8490566037735849, 0.8529411764705882, 0.8560606060606061], \"yaxis\": \"y\"}, {\"hoverlabel\": {\"namelength\": 0}, \"hovertemplate\": \"<b>%{hovertext}</b><br><br>degree=Master<br>subject=Interdisziplin\\u00e4re Lateinamerikastudien<br>sem_index=%{x}<br>pctg_female=%{y}\", \"hovertext\": [\"Interdisziplin\\u00e4re Lateinamerikastudien\", \"Interdisziplin\\u00e4re Lateinamerikastudien\", \"Interdisziplin\\u00e4re Lateinamerikastudien\", \"Interdisziplin\\u00e4re Lateinamerikastudien\", \"Interdisziplin\\u00e4re Lateinamerikastudien\", \"Interdisziplin\\u00e4re Lateinamerikastudien\"], \"legendgroup\": \"degree=Master\", \"line\": {\"color\": \"#00cc96\", \"dash\": \"solid\", \"shape\": \"spline\"}, \"mode\": \"lines\", \"name\": \"degree=Master\", \"showlegend\": false, \"type\": \"scatter\", \"uid\": \"f3870618-ae65-41d3-a948-b5d0de6a466b\", \"x\": [0, 1, 2, 3, 4, 5], \"xaxis\": \"x\", \"y\": [0.7990430622009569, 0.8007968127490039, 0.7844827586206896, 0.7613636363636364, 0.7777777777777778, 0.7937062937062938], \"yaxis\": \"y\"}, {\"hoverlabel\": {\"namelength\": 0}, \"hovertemplate\": \"<b>%{hovertext}</b><br><br>degree=Master<br>subject=Biologie<br>sem_index=%{x}<br>pctg_female=%{y}\", \"hovertext\": [\"Biologie\", \"Biologie\"], \"legendgroup\": \"degree=Master\", \"line\": {\"color\": \"#00cc96\", \"dash\": \"solid\", \"shape\": \"spline\"}, \"mode\": \"lines\", \"name\": \"degree=Master\", \"showlegend\": false, \"type\": \"scatter\", \"uid\": \"8cb648ba-c6f3-4fca-97f6-3707ae47ea6b\", \"x\": [3, 5], \"xaxis\": \"x\", \"y\": [0.7192118226600985, 0.693069306930693], \"yaxis\": \"y\"}, {\"hoverlabel\": {\"namelength\": 0}, \"hovertemplate\": \"<b>%{hovertext}</b><br><br>degree=Master<br>subject=Informatik<br>sem_index=%{x}<br>pctg_female=%{y}\", \"hovertext\": [\"Informatik\", \"Informatik\", \"Informatik\", \"Informatik\", \"Informatik\", \"Informatik\"], \"legendgroup\": \"degree=Master\", \"line\": {\"color\": \"#00cc96\", \"dash\": \"solid\", \"shape\": \"spline\"}, \"mode\": \"lines\", \"name\": \"degree=Master\", \"showlegend\": false, \"type\": \"scatter\", \"uid\": \"76c11e14-ae49-476c-ac7e-0a68f60afc51\", \"x\": [0, 1, 2, 3, 4, 5], \"xaxis\": \"x\", \"y\": [0.08239700374531835, 0.09205020920502092, 0.10344827586206896, 0.11353711790393013, 0.11363636363636363, 0.14285714285714285], \"yaxis\": \"y\"}, {\"hoverlabel\": {\"namelength\": 0}, \"hovertemplate\": \"<b>%{hovertext}</b><br><br>degree=Master<br>subject=Bildungswissenschaft<br>sem_index=%{x}<br>pctg_female=%{y}\", \"hovertext\": [\"Bildungswissenschaft\", \"Bildungswissenschaft\"], \"legendgroup\": \"degree=Master\", \"line\": {\"color\": \"#00cc96\", \"dash\": \"solid\", \"shape\": \"spline\"}, \"mode\": \"lines\", \"name\": \"degree=Master\", \"showlegend\": false, \"type\": \"scatter\", \"uid\": \"ad0b3d8d-2ed6-454b-ba3d-d83941f49f06\", \"x\": [1, 3], \"xaxis\": \"x\", \"y\": [0.8379629629629629, 0.8372093023255814], \"yaxis\": \"y\"}, {\"hoverlabel\": {\"namelength\": 0}, \"hovertemplate\": \"<b>%{hovertext}</b><br><br>degree=Master<br>subject=Medien und Politische Kommunikation<br>sem_index=%{x}<br>pctg_female=%{y}\", \"hovertext\": [\"Medien und Politische Kommunikation\"], \"legendgroup\": \"degree=Master\", \"line\": {\"color\": \"#00cc96\", \"dash\": \"solid\", \"shape\": \"spline\"}, \"mode\": \"lines\", \"name\": \"degree=Master\", \"showlegend\": false, \"type\": \"scatter\", \"uid\": \"3a1ad6f2-cd8f-4302-928e-23e22aefc1db\", \"x\": [1], \"xaxis\": \"x\", \"y\": [0.75], \"yaxis\": \"y\"}, {\"hoverlabel\": {\"namelength\": 0}, \"hovertemplate\": \"<b>%{hovertext}</b><br><br>degree=Master<br>subject=Soziologie - Europ\\u00e4ische Gesellschaften -<br>sem_index=%{x}<br>pctg_female=%{y}\", \"hovertext\": [\"Soziologie - Europ\\u00e4ische Gesellschaften -\", \"Soziologie - Europ\\u00e4ische Gesellschaften -\", \"Soziologie - Europ\\u00e4ische Gesellschaften -\", \"Soziologie - Europ\\u00e4ische Gesellschaften -\", \"Soziologie - Europ\\u00e4ische Gesellschaften -\"], \"legendgroup\": \"degree=Master\", \"line\": {\"color\": \"#00cc96\", \"dash\": \"solid\", \"shape\": \"spline\"}, \"mode\": \"lines\", \"name\": \"degree=Master\", \"showlegend\": false, \"type\": \"scatter\", \"uid\": \"7028b9f7-0298-4d84-a33a-3f59c7439b1f\", \"x\": [1, 2, 3, 4, 5], \"xaxis\": \"x\", \"y\": [0.6708860759493671, 0.6682464454976303, 0.6164874551971327, 0.610655737704918, 0.5830508474576271], \"yaxis\": \"y\"}, {\"hoverlabel\": {\"namelength\": 0}, \"hovertemplate\": \"<b>%{hovertext}</b><br><br>degree=Master<br>subject=Psychologie mit Schwerpunkt Klinische- und\\rGesundheitspsychologie<br>sem_index=%{x}<br>pctg_female=%{y}\", \"hovertext\": [\"Psychologie mit Schwerpunkt Klinische- und\\rGesundheitspsychologie\", \"Psychologie mit Schwerpunkt Klinische- und\\rGesundheitspsychologie\"], \"legendgroup\": \"degree=Master\", \"line\": {\"color\": \"#00cc96\", \"dash\": \"solid\", \"shape\": \"spline\"}, \"mode\": \"lines\", \"name\": \"degree=Master\", \"showlegend\": false, \"type\": \"scatter\", \"uid\": \"51a6fc1e-0cb9-45f7-87f6-c0ef231a3cc7\", \"x\": [1, 5], \"xaxis\": \"x\", \"y\": [0.8252427184466019, 0.8173076923076923], \"yaxis\": \"y\"}, {\"hoverlabel\": {\"namelength\": 0}, \"hovertemplate\": \"<b>%{hovertext}</b><br><br>degree=Master<br>subject=Osteuropastudien<br>sem_index=%{x}<br>pctg_female=%{y}\", \"hovertext\": [\"Osteuropastudien\", \"Osteuropastudien\", \"Osteuropastudien\", \"Osteuropastudien\", \"Osteuropastudien\"], \"legendgroup\": \"degree=Master\", \"line\": {\"color\": \"#00cc96\", \"dash\": \"solid\", \"shape\": \"spline\"}, \"mode\": \"lines\", \"name\": \"degree=Master\", \"showlegend\": false, \"type\": \"scatter\", \"uid\": \"b3b69fa0-a28f-42b4-b715-886e2505bbe5\", \"x\": [1, 2, 3, 4, 5], \"xaxis\": \"x\", \"y\": [0.625, 0.624390243902439, 0.6204081632653061, 0.6090909090909091, 0.6322314049586777], \"yaxis\": \"y\"}, {\"hoverlabel\": {\"namelength\": 0}, \"hovertemplate\": \"<b>%{hovertext}</b><br><br>degree=Staatsexamen<br>subject=Pharmazie<br>sem_index=%{x}<br>pctg_female=%{y}\", \"hovertext\": [\"Pharmazie\", \"Pharmazie\", \"Pharmazie\", \"Pharmazie\", \"Pharmazie\", \"Pharmazie\"], \"legendgroup\": \"degree=Staatsexamen\", \"line\": {\"color\": \"#ab63fa\", \"dash\": \"solid\", \"shape\": \"spline\"}, \"mode\": \"lines\", \"name\": \"degree=Staatsexamen\", \"showlegend\": true, \"type\": \"scatter\", \"uid\": \"745fc4e0-8e3b-4d54-bce3-e0ed796aecbe\", \"x\": [0, 1, 2, 3, 4, 5], \"xaxis\": \"x\", \"y\": [0.7078464106844741, 0.7096219931271478, 0.6985815602836879, 0.6822916666666666, 0.6842105263157895, 0.6694078947368421], \"yaxis\": \"y\"}, {\"hoverlabel\": {\"namelength\": 0}, \"hovertemplate\": \"<b>%{hovertext}</b><br><br>degree=Staatsexamen<br>subject=Rechtswissenschaft<br>sem_index=%{x}<br>pctg_female=%{y}\", \"hovertext\": [\"Rechtswissenschaft\", \"Rechtswissenschaft\", \"Rechtswissenschaft\", \"Rechtswissenschaft\", \"Rechtswissenschaft\", \"Rechtswissenschaft\"], \"legendgroup\": \"degree=Staatsexamen\", \"line\": {\"color\": \"#ab63fa\", \"dash\": \"solid\", \"shape\": \"spline\"}, \"mode\": \"lines\", \"name\": \"degree=Staatsexamen\", \"showlegend\": false, \"type\": \"scatter\", \"uid\": \"8ef67ca3-c8bd-4a9a-83b8-9989f73a9262\", \"x\": [0, 1, 2, 3, 4, 5], \"xaxis\": \"x\", \"y\": [0.5753052917232022, 0.5741882449650637, 0.5815730337078652, 0.5839323467230444, 0.5825602968460112, 0.5922783198981757], \"yaxis\": \"y\"}, {\"hoverlabel\": {\"namelength\": 0}, \"hovertemplate\": \"<b>%{hovertext}</b><br><br>degree=Staatsexamen<br>subject=Veterin\\u00e4rmedizin<br>sem_index=%{x}<br>pctg_female=%{y}\", \"hovertext\": [\"Veterin\\u00e4rmedizin\", \"Veterin\\u00e4rmedizin\", \"Veterin\\u00e4rmedizin\", \"Veterin\\u00e4rmedizin\", \"Veterin\\u00e4rmedizin\", \"Veterin\\u00e4rmedizin\"], \"legendgroup\": \"degree=Staatsexamen\", \"line\": {\"color\": \"#ab63fa\", \"dash\": \"solid\", \"shape\": \"spline\"}, \"mode\": \"lines\", \"name\": \"degree=Staatsexamen\", \"showlegend\": false, \"type\": \"scatter\", \"uid\": \"9bf02ff9-66b0-4836-bca4-9c31cb0d1ea3\", \"x\": [0, 1, 2, 3, 4, 5], \"xaxis\": \"x\", \"y\": [0.8480340063761955, 0.8474418604651163, 0.8506787330316742, 0.8436018957345972, 0.8442982456140351, 0.872423945044161], \"yaxis\": \"y\"}, {\"hoverlabel\": {\"namelength\": 0}, \"hovertemplate\": \"<b>%{hovertext}</b><br><br>degree=Promotion<br>subject=Politikwissenschaft<br>sem_index=%{x}<br>pctg_female=%{y}\", \"hovertext\": [\"Politikwissenschaft\", \"Politikwissenschaft\", \"Politikwissenschaft\"], \"legendgroup\": \"degree=Promotion\", \"line\": {\"color\": \"#19d3f3\", \"dash\": \"solid\", \"shape\": \"spline\"}, \"mode\": \"lines\", \"name\": \"degree=Promotion\", \"showlegend\": true, \"type\": \"scatter\", \"uid\": \"4275d55d-efe1-4ee7-b20d-9f11491f7614\", \"x\": [0, 1, 2], \"xaxis\": \"x\", \"y\": [0.4896265560165975, 0.4792626728110599, 0.48756218905472637], \"yaxis\": \"y\"}, {\"hoverlabel\": {\"namelength\": 0}, \"hovertemplate\": \"<b>%{hovertext}</b><br><br>degree=Promotion<br>subject=Rechtswissenschaft<br>sem_index=%{x}<br>pctg_female=%{y}\", \"hovertext\": [\"Rechtswissenschaft\", \"Rechtswissenschaft\", \"Rechtswissenschaft\", \"Rechtswissenschaft\", \"Rechtswissenschaft\", \"Rechtswissenschaft\"], \"legendgroup\": \"degree=Promotion\", \"line\": {\"color\": \"#19d3f3\", \"dash\": \"solid\", \"shape\": \"spline\"}, \"mode\": \"lines\", \"name\": \"degree=Promotion\", \"showlegend\": false, \"type\": \"scatter\", \"uid\": \"615d0b19-1223-4fec-840f-80d456b38d50\", \"x\": [0, 1, 2, 3, 4, 5], \"xaxis\": \"x\", \"y\": [0.4837662337662338, 0.45364238410596025, 0.444794952681388, 0.4605263157894737, 0.43197278911564624, 0.4722222222222222], \"yaxis\": \"y\"}, {\"hoverlabel\": {\"namelength\": 0}, \"hovertemplate\": \"<b>%{hovertext}</b><br><br>degree=Promotion<br>subject=Veterin\\u00e4rmedizin<br>sem_index=%{x}<br>pctg_female=%{y}\", \"hovertext\": [\"Veterin\\u00e4rmedizin\", \"Veterin\\u00e4rmedizin\", \"Veterin\\u00e4rmedizin\", \"Veterin\\u00e4rmedizin\", \"Veterin\\u00e4rmedizin\", \"Veterin\\u00e4rmedizin\"], \"legendgroup\": \"degree=Promotion\", \"line\": {\"color\": \"#19d3f3\", \"dash\": \"solid\", \"shape\": \"spline\"}, \"mode\": \"lines\", \"name\": \"degree=Promotion\", \"showlegend\": false, \"type\": \"scatter\", \"uid\": \"7e26f340-381b-451b-884a-3892ed4d4f7a\", \"x\": [0, 1, 2, 3, 4, 5], \"xaxis\": \"x\", \"y\": [0.7878787878787878, 0.7897196261682243, 0.7710843373493976, 0.7799511002444988, 0.7837150127226463, 0.7828282828282829], \"yaxis\": \"y\"}, {\"hoverlabel\": {\"namelength\": 0}, \"hovertemplate\": \"<b>%{hovertext}</b><br><br>degree=Promotion<br>subject=Biologie<br>sem_index=%{x}<br>pctg_female=%{y}\", \"hovertext\": [\"Biologie\", \"Biologie\", \"Biologie\", \"Biologie\", \"Biologie\", \"Biologie\"], \"legendgroup\": \"degree=Promotion\", \"line\": {\"color\": \"#19d3f3\", \"dash\": \"solid\", \"shape\": \"spline\"}, \"mode\": \"lines\", \"name\": \"degree=Promotion\", \"showlegend\": false, \"type\": \"scatter\", \"uid\": \"ab748ae8-43d6-4189-a33d-d958ee77572e\", \"x\": [0, 1, 2, 3, 4, 5], \"xaxis\": \"x\", \"y\": [0.6043956043956044, 0.6094890510948905, 0.6156462585034014, 0.6282527881040892, 0.6498054474708171, 0.6454183266932271], \"yaxis\": \"y\"}, {\"hoverlabel\": {\"namelength\": 0}, \"hovertemplate\": \"<b>%{hovertext}</b><br><br>degree=Abschl.au\\u00dferh.Deutschland<br>subject=FUBiS - Deutsch<br>sem_index=%{x}<br>pctg_female=%{y}\", \"hovertext\": [\"FUBiS - Deutsch\", \"FUBiS - Deutsch\", \"FUBiS - Deutsch\"], \"legendgroup\": \"degree=Abschl.au\\u00dferh.Deutschland\", \"line\": {\"color\": \"#e763fa\", \"dash\": \"solid\", \"shape\": \"spline\"}, \"mode\": \"lines\", \"name\": \"degree=Abschl.au\\u00dferh.Deutschland\", \"showlegend\": true, \"type\": \"scatter\", \"uid\": \"ee296336-9c85-41bd-9b46-a3f81ce48103\", \"x\": [0, 2, 4], \"xaxis\": \"x\", \"y\": [0.5718849840255591, 0.5955414012738853, 0.5633187772925764], \"yaxis\": \"y\"}, {\"hoverlabel\": {\"namelength\": 0}, \"hovertemplate\": \"<b>%{hovertext}</b><br><br>degree=LA Bachelor ISS und Gym.<br>subject=Biologie<br>sem_index=%{x}<br>pctg_female=%{y}\", \"hovertext\": [\"Biologie\"], \"legendgroup\": \"degree=LA Bachelor ISS und Gym.\", \"line\": {\"color\": \"#FECB52\", \"dash\": \"solid\", \"shape\": \"spline\"}, \"mode\": \"lines\", \"name\": \"degree=LA Bachelor ISS und Gym.\", \"showlegend\": true, \"type\": \"scatter\", \"uid\": \"157a7995-ca02-40ca-abe2-f7976a3fae18\", \"x\": [5], \"xaxis\": \"x\", \"y\": [0.6157635467980296], \"yaxis\": \"y\"}, {\"hoverlabel\": {\"namelength\": 0}, \"hovertemplate\": \"<b>%{hovertext}</b><br><br>degree=LA Bachelor ISS und Gym.<br>subject=Geschichte<br>sem_index=%{x}<br>pctg_female=%{y}\", \"hovertext\": [\"Geschichte\", \"Geschichte\", \"Geschichte\", \"Geschichte\", \"Geschichte\"], \"legendgroup\": \"degree=LA Bachelor ISS und Gym.\", \"line\": {\"color\": \"#FECB52\", \"dash\": \"solid\", \"shape\": \"spline\"}, \"mode\": \"lines\", \"name\": \"degree=LA Bachelor ISS und Gym.\", \"showlegend\": false, \"type\": \"scatter\", \"uid\": \"c0ea99bc-f313-4b39-843c-454f5490501b\", \"x\": [1, 2, 3, 4, 5], \"xaxis\": \"x\", \"y\": [0.3898305084745763, 0.4034334763948498, 0.44281524926686217, 0.44807121661721067, 0.42729970326409494], \"yaxis\": \"y\"}, {\"hoverlabel\": {\"namelength\": 0}, \"hovertemplate\": \"<b>%{hovertext}</b><br><br>degree=LA Bachelor ISS und Gym.<br>subject=Deutsch / Deutsche Philologie<br>sem_index=%{x}<br>pctg_female=%{y}\", \"hovertext\": [\"Deutsch / Deutsche Philologie\", \"Deutsch / Deutsche Philologie\", \"Deutsch / Deutsche Philologie\", \"Deutsch / Deutsche Philologie\", \"Deutsch / Deutsche Philologie\"], \"legendgroup\": \"degree=LA Bachelor ISS und Gym.\", \"line\": {\"color\": \"#FECB52\", \"dash\": \"solid\", \"shape\": \"spline\"}, \"mode\": \"lines\", \"name\": \"degree=LA Bachelor ISS und Gym.\", \"showlegend\": false, \"type\": \"scatter\", \"uid\": \"5685e8b1-6aab-4bf2-9041-c554ed22b3f4\", \"x\": [1, 2, 3, 4, 5], \"xaxis\": \"x\", \"y\": [0.7519083969465649, 0.7575757575757576, 0.7492537313432835, 0.7613293051359517, 0.7292682926829268], \"yaxis\": \"y\"}, {\"hoverlabel\": {\"namelength\": 0}, \"hovertemplate\": \"<b>%{hovertext}</b><br><br>degree=LA Bachelor ISS und Gym.<br>subject=Kernfach TUB<br>sem_index=%{x}<br>pctg_female=%{y}\", \"hovertext\": [\"Kernfach TUB\", \"Kernfach TUB\", \"Kernfach TUB\"], \"legendgroup\": \"degree=LA Bachelor ISS und Gym.\", \"line\": {\"color\": \"#FECB52\", \"dash\": \"solid\", \"shape\": \"spline\"}, \"mode\": \"lines\", \"name\": \"degree=LA Bachelor ISS und Gym.\", \"showlegend\": false, \"type\": \"scatter\", \"uid\": \"2b2c41d3-1b7d-4224-b7d8-73fa6f3e5641\", \"x\": [1, 3, 5], \"xaxis\": \"x\", \"y\": [0.6368159203980099, 0.6325581395348837, 0.6023622047244095], \"yaxis\": \"y\"}, {\"hoverlabel\": {\"namelength\": 0}, \"hovertemplate\": \"<b>%{hovertext}</b><br><br>degree=LA Bachelor ISS und Gym.<br>subject=Englisch / Englische Philologie<br>sem_index=%{x}<br>pctg_female=%{y}\", \"hovertext\": [\"Englisch / Englische Philologie\"], \"legendgroup\": \"degree=LA Bachelor ISS und Gym.\", \"line\": {\"color\": \"#FECB52\", \"dash\": \"solid\", \"shape\": \"spline\"}, \"mode\": \"lines\", \"name\": \"degree=LA Bachelor ISS und Gym.\", \"showlegend\": false, \"type\": \"scatter\", \"uid\": \"751fe05b-dc58-421c-8b33-60670b2a6058\", \"x\": [5], \"xaxis\": \"x\", \"y\": [0.6367713004484304], \"yaxis\": \"y\"}, {\"hoverlabel\": {\"namelength\": 0}, \"hovertemplate\": \"<b>%{hovertext}</b><br><br>degree=LA Bachelor ISS und Gym.<br>subject=Kernfach UdK<br>sem_index=%{x}<br>pctg_female=%{y}\", \"hovertext\": [\"Kernfach UdK\"], \"legendgroup\": \"degree=LA Bachelor ISS und Gym.\", \"line\": {\"color\": \"#FECB52\", \"dash\": \"solid\", \"shape\": \"spline\"}, \"mode\": \"lines\", \"name\": \"degree=LA Bachelor ISS und Gym.\", \"showlegend\": false, \"type\": \"scatter\", \"uid\": \"4496ad1b-b61d-4be1-b4e4-288acfb3578d\", \"x\": [5], \"xaxis\": \"x\", \"y\": [0.6759259259259259], \"yaxis\": \"y\"}],\n",
       "                        {\"grid\": {\"xaxes\": [\"x\"], \"xgap\": 0.1, \"xside\": \"bottom\", \"yaxes\": [\"y\"], \"ygap\": 0.1, \"yside\": \"left\"}, \"height\": 600, \"legend\": {\"tracegroupgap\": 0}, \"margin\": {\"t\": 60}, \"template\": {\"data\": {\"bar\": [{\"marker\": {\"line\": {\"color\": \"#E5ECF6\", \"width\": 0.5}}, \"type\": \"bar\"}], \"barpolar\": [{\"marker\": {\"line\": {\"color\": \"#E5ECF6\", \"width\": 0.5}}, \"type\": \"barpolar\"}], \"carpet\": [{\"aaxis\": {\"endlinecolor\": \"#2a3f5f\", \"gridcolor\": \"white\", \"linecolor\": \"white\", \"minorgridcolor\": \"white\", \"startlinecolor\": \"#2a3f5f\"}, \"baxis\": {\"endlinecolor\": \"#2a3f5f\", \"gridcolor\": \"white\", \"linecolor\": \"white\", \"minorgridcolor\": \"white\", \"startlinecolor\": \"#2a3f5f\"}, \"type\": \"carpet\"}], \"choropleth\": [{\"colorbar\": {\"outlinewidth\": 0, \"ticks\": \"\"}, \"type\": \"choropleth\"}], \"contour\": [{\"colorbar\": {\"outlinewidth\": 0, \"ticks\": \"\"}, \"colorscale\": [[0.0, \"#0508b8\"], [0.0893854748603352, \"#1910d8\"], [0.1787709497206704, \"#3c19f0\"], [0.2681564245810056, \"#6b1cfb\"], [0.3575418994413408, \"#981cfd\"], [0.44692737430167595, \"#bf1cfd\"], [0.5363128491620112, \"#dd2bfd\"], [0.6256983240223464, \"#f246fe\"], [0.7150837988826816, \"#fc67fd\"], [0.8044692737430168, \"#fe88fc\"], [0.8938547486033519, \"#fea5fd\"], [0.9832402234636871, \"#febefe\"], [1.0, \"#fec3fe\"]], \"type\": \"contour\"}], \"contourcarpet\": [{\"colorbar\": {\"outlinewidth\": 0, \"ticks\": \"\"}, \"type\": \"contourcarpet\"}], \"heatmap\": [{\"colorbar\": {\"outlinewidth\": 0, \"ticks\": \"\"}, \"colorscale\": [[0.0, \"#0508b8\"], [0.0893854748603352, \"#1910d8\"], [0.1787709497206704, \"#3c19f0\"], [0.2681564245810056, \"#6b1cfb\"], [0.3575418994413408, \"#981cfd\"], [0.44692737430167595, \"#bf1cfd\"], [0.5363128491620112, \"#dd2bfd\"], [0.6256983240223464, \"#f246fe\"], [0.7150837988826816, \"#fc67fd\"], [0.8044692737430168, \"#fe88fc\"], [0.8938547486033519, \"#fea5fd\"], [0.9832402234636871, \"#febefe\"], [1.0, \"#fec3fe\"]], \"type\": \"heatmap\"}], \"heatmapgl\": [{\"colorbar\": {\"outlinewidth\": 0, \"ticks\": \"\"}, \"type\": \"heatmapgl\"}], \"histogram\": [{\"marker\": {\"colorbar\": {\"outlinewidth\": 0, \"ticks\": \"\"}}, \"type\": \"histogram\"}], \"histogram2d\": [{\"colorbar\": {\"outlinewidth\": 0, \"ticks\": \"\"}, \"colorscale\": [[0.0, \"#0508b8\"], [0.0893854748603352, \"#1910d8\"], [0.1787709497206704, \"#3c19f0\"], [0.2681564245810056, \"#6b1cfb\"], [0.3575418994413408, \"#981cfd\"], [0.44692737430167595, \"#bf1cfd\"], [0.5363128491620112, \"#dd2bfd\"], [0.6256983240223464, \"#f246fe\"], [0.7150837988826816, \"#fc67fd\"], [0.8044692737430168, \"#fe88fc\"], [0.8938547486033519, \"#fea5fd\"], [0.9832402234636871, \"#febefe\"], [1.0, \"#fec3fe\"]], \"type\": \"histogram2d\"}], \"histogram2dcontour\": [{\"colorbar\": {\"outlinewidth\": 0, \"ticks\": \"\"}, \"colorscale\": [[0.0, \"#0508b8\"], [0.0893854748603352, \"#1910d8\"], [0.1787709497206704, \"#3c19f0\"], [0.2681564245810056, \"#6b1cfb\"], [0.3575418994413408, \"#981cfd\"], [0.44692737430167595, \"#bf1cfd\"], [0.5363128491620112, \"#dd2bfd\"], [0.6256983240223464, \"#f246fe\"], [0.7150837988826816, \"#fc67fd\"], [0.8044692737430168, \"#fe88fc\"], [0.8938547486033519, \"#fea5fd\"], [0.9832402234636871, \"#febefe\"], [1.0, \"#fec3fe\"]], \"type\": \"histogram2dcontour\"}], \"mesh3d\": [{\"colorbar\": {\"outlinewidth\": 0, \"ticks\": \"\"}, \"type\": \"mesh3d\"}], \"parcoords\": [{\"line\": {\"colorbar\": {\"outlinewidth\": 0, \"ticks\": \"\"}}, \"type\": \"parcoords\"}], \"scatter\": [{\"marker\": {\"colorbar\": {\"outlinewidth\": 0, \"ticks\": \"\"}}, \"type\": \"scatter\"}], \"scatter3d\": [{\"marker\": {\"colorbar\": {\"outlinewidth\": 0, \"ticks\": \"\"}}, \"type\": \"scatter3d\"}], \"scattercarpet\": [{\"marker\": {\"colorbar\": {\"outlinewidth\": 0, \"ticks\": \"\"}}, \"type\": \"scattercarpet\"}], \"scattergeo\": [{\"marker\": {\"colorbar\": {\"outlinewidth\": 0, \"ticks\": \"\"}}, \"type\": \"scattergeo\"}], \"scattergl\": [{\"marker\": {\"colorbar\": {\"outlinewidth\": 0, \"ticks\": \"\"}}, \"type\": \"scattergl\"}], \"scattermapbox\": [{\"marker\": {\"colorbar\": {\"outlinewidth\": 0, \"ticks\": \"\"}}, \"type\": \"scattermapbox\"}], \"scatterpolar\": [{\"marker\": {\"colorbar\": {\"outlinewidth\": 0, \"ticks\": \"\"}}, \"type\": \"scatterpolar\"}], \"scatterpolargl\": [{\"marker\": {\"colorbar\": {\"outlinewidth\": 0, \"ticks\": \"\"}}, \"type\": \"scatterpolargl\"}], \"scatterternary\": [{\"marker\": {\"colorbar\": {\"outlinewidth\": 0, \"ticks\": \"\"}}, \"type\": \"scatterternary\"}], \"surface\": [{\"colorbar\": {\"outlinewidth\": 0, \"ticks\": \"\"}, \"type\": \"surface\"}], \"table\": [{\"cells\": {\"fill\": {\"color\": \"#EBF0F8\"}, \"line\": {\"color\": \"white\"}}, \"header\": {\"fill\": {\"color\": \"#C8D4E3\"}, \"line\": {\"color\": \"white\"}}, \"type\": \"table\"}]}, \"layout\": {\"annotationdefaults\": {\"arrowcolor\": \"#506784\", \"arrowhead\": 0, \"arrowwidth\": 1}, \"colorscale\": {\"diverging\": [[0, \"#8e0152\"], [0.1, \"#c51b7d\"], [0.2, \"#de77ae\"], [0.3, \"#f1b6da\"], [0.4, \"#fde0ef\"], [0.5, \"#f7f7f7\"], [0.6, \"#e6f5d0\"], [0.7, \"#b8e186\"], [0.8, \"#7fbc41\"], [0.9, \"#4d9221\"], [1, \"#276419\"]], \"sequential\": [[0.0, \"#0508b8\"], [0.0893854748603352, \"#1910d8\"], [0.1787709497206704, \"#3c19f0\"], [0.2681564245810056, \"#6b1cfb\"], [0.3575418994413408, \"#981cfd\"], [0.44692737430167595, \"#bf1cfd\"], [0.5363128491620112, \"#dd2bfd\"], [0.6256983240223464, \"#f246fe\"], [0.7150837988826816, \"#fc67fd\"], [0.8044692737430168, \"#fe88fc\"], [0.8938547486033519, \"#fea5fd\"], [0.9832402234636871, \"#febefe\"], [1.0, \"#fec3fe\"]], \"sequentialminus\": [[0.0, \"#0508b8\"], [0.0893854748603352, \"#1910d8\"], [0.1787709497206704, \"#3c19f0\"], [0.2681564245810056, \"#6b1cfb\"], [0.3575418994413408, \"#981cfd\"], [0.44692737430167595, \"#bf1cfd\"], [0.5363128491620112, \"#dd2bfd\"], [0.6256983240223464, \"#f246fe\"], [0.7150837988826816, \"#fc67fd\"], [0.8044692737430168, \"#fe88fc\"], [0.8938547486033519, \"#fea5fd\"], [0.9832402234636871, \"#febefe\"], [1.0, \"#fec3fe\"]]}, \"colorway\": [\"#636efa\", \"#EF553B\", \"#00cc96\", \"#ab63fa\", \"#19d3f3\", \"#e763fa\", \"#FECB52\", \"#FFA15A\", \"#FF6692\", \"#B6E880\"], \"font\": {\"color\": \"#2a3f5f\"}, \"geo\": {\"bgcolor\": \"white\", \"lakecolor\": \"white\", \"landcolor\": \"#E5ECF6\", \"showlakes\": true, \"showland\": true, \"subunitcolor\": \"white\"}, \"hoverlabel\": {\"align\": \"left\"}, \"hovermode\": \"closest\", \"mapbox\": {\"style\": \"light\"}, \"paper_bgcolor\": \"white\", \"plot_bgcolor\": \"#E5ECF6\", \"polar\": {\"angularaxis\": {\"gridcolor\": \"white\", \"linecolor\": \"white\", \"ticks\": \"\"}, \"bgcolor\": \"#E5ECF6\", \"radialaxis\": {\"gridcolor\": \"white\", \"linecolor\": \"white\", \"ticks\": \"\"}}, \"scene\": {\"xaxis\": {\"backgroundcolor\": \"#E5ECF6\", \"gridcolor\": \"white\", \"gridwidth\": 2, \"linecolor\": \"white\", \"showbackground\": true, \"ticks\": \"\", \"zerolinecolor\": \"white\"}, \"yaxis\": {\"backgroundcolor\": \"#E5ECF6\", \"gridcolor\": \"white\", \"gridwidth\": 2, \"linecolor\": \"white\", \"showbackground\": true, \"ticks\": \"\", \"zerolinecolor\": \"white\"}, \"zaxis\": {\"backgroundcolor\": \"#E5ECF6\", \"gridcolor\": \"white\", \"gridwidth\": 2, \"linecolor\": \"white\", \"showbackground\": true, \"ticks\": \"\", \"zerolinecolor\": \"white\"}}, \"shapedefaults\": {\"fillcolor\": \"#506784\", \"line\": {\"width\": 0}, \"opacity\": 0.4}, \"ternary\": {\"aaxis\": {\"gridcolor\": \"white\", \"linecolor\": \"white\", \"ticks\": \"\"}, \"baxis\": {\"gridcolor\": \"white\", \"linecolor\": \"white\", \"ticks\": \"\"}, \"bgcolor\": \"#E5ECF6\", \"caxis\": {\"gridcolor\": \"white\", \"linecolor\": \"white\", \"ticks\": \"\"}}, \"title\": {\"x\": 0.05}, \"xaxis\": {\"automargin\": true, \"gridcolor\": \"white\", \"linecolor\": \"white\", \"ticks\": \"\", \"zerolinecolor\": \"white\", \"zerolinewidth\": 2}, \"yaxis\": {\"automargin\": true, \"gridcolor\": \"white\", \"linecolor\": \"white\", \"ticks\": \"\", \"zerolinecolor\": \"white\", \"zerolinewidth\": 2}}}, \"xaxis\": {\"title\": {\"text\": \"sem_index\"}}, \"yaxis\": {\"title\": {\"text\": \"pctg_female\"}}},\n",
       "                        {\"showLink\": false, \"linkText\": \"Export to plot.ly\", \"plotlyServerURL\": \"https://plot.ly\", \"responsive\": true}\n",
       "                    ).then(function(){\n",
       "                            \n",
       "var gd = document.getElementById('fcc3ca56-91d0-4a38-b49a-3d146bc92a3f');\n",
       "var x = new MutationObserver(function (mutations, observer) {{\n",
       "        var display = window.getComputedStyle(gd).display;\n",
       "        if (!display || display === 'none') {{\n",
       "            console.log([gd, 'removed!']);\n",
       "            Plotly.purge(gd);\n",
       "            observer.disconnect();\n",
       "        }}\n",
       "}});\n",
       "\n",
       "// Listen for the removal of the full notebook cells\n",
       "var notebookContainer = gd.closest('#notebook-container');\n",
       "if (notebookContainer) {{\n",
       "    x.observe(notebookContainer, {childList: true});\n",
       "}}\n",
       "\n",
       "// Listen for the clearing of the current output cell\n",
       "var outputEl = gd.closest('.output');\n",
       "if (outputEl) {{\n",
       "    x.observe(outputEl, {childList: true});\n",
       "}}\n",
       "\n",
       "                        })\n",
       "                };\n",
       "                });\n",
       "            </script>\n",
       "        </div>"
      ]
     },
     "metadata": {},
     "output_type": "display_data"
    }
   ],
   "source": [
    "df_ = df[(df.n_total > 200)].sort_values(\"sem_index\")\n",
    "\n",
    "px.line(\n",
    "    df_,\n",
    "    x=\"sem_index\",\n",
    "    y=\"pctg_female\",\n",
    "    line_group=\"subject\",\n",
    "    #hover_data=df.columns,\n",
    "    hover_name=\"subject\",\n",
    "    #text=\"subject\",\n",
    "    color=\"degree\",\n",
    "    line_shape=\"spline\",\n",
    "    category_orders={\"semester\": SEMESTER_ORDER}\n",
    ")"
   ]
  },
  {
   "cell_type": "code",
   "execution_count": 7,
   "metadata": {},
   "outputs": [],
   "source": [
    "DEGREE = \"Bachelor\""
   ]
  },
  {
   "cell_type": "code",
   "execution_count": 25,
   "metadata": {},
   "outputs": [],
   "source": [
    "DEGREE = \"Master\""
   ]
  },
  {
   "cell_type": "code",
   "execution_count": 8,
   "metadata": {},
   "outputs": [],
   "source": [
    "df_2017 = df[df.year == 2017]"
   ]
  },
  {
   "cell_type": "code",
   "execution_count": 9,
   "metadata": {},
   "outputs": [
    {
     "data": {
      "text/plain": [
       "0.5999106100939007"
      ]
     },
     "execution_count": 9,
     "metadata": {},
     "output_type": "execute_result"
    }
   ],
   "source": [
    "df_2017[df_2017.pctg_female <= 1].pctg_female.mean()"
   ]
  },
  {
   "cell_type": "code",
   "execution_count": 10,
   "metadata": {},
   "outputs": [],
   "source": [
    "df_ = df[(df.n_total > 20) & (df.degree == DEGREE)]"
   ]
  },
  {
   "cell_type": "code",
   "execution_count": 11,
   "metadata": {},
   "outputs": [
    {
     "data": {
      "text/plain": [
       "subject\n",
       "Informatik                                                                        0.209322\n",
       "Physik                                                                            0.291733\n",
       "Volkswirtschaftslehre                                                             0.352187\n",
       "Geologische Wissenschaften                                                        0.378141\n",
       "Geographische Wissenschaften                                                      0.387748\n",
       "Mathematik                                                                        0.402951\n",
       "Chemie                                                                            0.407997\n",
       "Bioinformatik                                                                     0.436664\n",
       "Medieninformatik                                                                  0.442263\n",
       "Meteorologie                                                                      0.443163\n",
       "Politikwissenschaft                                                               0.482266\n",
       "Altertumswissenschaft mit Schwerpunkt: Prähistorische                             0.492063\n",
       "Altertumswissenschaft mit Schwerpunkt: Prähistorische\\rArchäologie                0.514082\n",
       "Betriebswirtschaftslehre                                                          0.530851\n",
       "Altertumswissenschaft mit Schwerpunkt: Vorderasiatische\\rArchäologie              0.539033\n",
       "Politikwissenschaft - Sciences Sociales                                           0.554702\n",
       "Altertumswissenschaft mit Schwerpunkt: Klassische                                 0.585526\n",
       "Altertumswissenschaft mit Schwerpunkt: Vorderasiatische                           0.586957\n",
       "Altertumswissenschaft mit Schwerpunkt: Ägyptologie                                0.589509\n",
       "Integrierte Chinastudien                                                          0.591667\n",
       "Altertumswissenschaft mit Schwerpunkt: Klassische\\rArchäologie                    0.592791\n",
       "Geschichte und Kultur des Vorderen Orients mit Schwerpunkt:\\rSemitistik           0.593617\n",
       "Chinastudien/Ostasienwissenschaften                                               0.596749\n",
       "Biochemie                                                                         0.598934\n",
       "Nordamerikastudien                                                                0.612636\n",
       "Integrierte Japanstudien                                                          0.622301\n",
       "Japanstudien/Ostasienwissenschaften                                               0.623059\n",
       "Geschichte und Kultur des Vorderen Orients mit Schwerpunkt:\\rIranistik            0.630295\n",
       "EinS@FU: Philosopie und Geisteswissenschaften                                     0.634301\n",
       "EinS@FU: Mathematik und Informatik                                                0.636434\n",
       "Geschichte und Kultur des Vorderen Orients mit Schwerpunkt:\\rArabistik            0.662001\n",
       "Altertumswissenschaft mit Schwerpunkt: Altorientalistik                           0.669922\n",
       "EinS@FU: Geschichts- und Kulturwisenschaften                                      0.684548\n",
       "Italienisch Vorstudiensprachkurs                                                  0.687500\n",
       "Biologie                                                                          0.692608\n",
       "Geschichte und Kultur des Vorderen Orients mit Schwerpunkt:\\rIslamwissenschaft    0.702968\n",
       "Geschichte und Kultur des Vorderen Orients mit Schwerpunkt:\\rTurkologie           0.703732\n",
       "Italienstudien                                                                    0.713171\n",
       "Frankreichstudien                                                                 0.719184\n",
       "Psychologie                                                                       0.763025\n",
       "Geschichte und Kultur des Vorderen Orients mit Schwerpunkt:                       0.766917\n",
       "Bildungs- und Erziehungswissenschaft                                              0.799398\n",
       "Koreastudien/Ostasienwissenschaften                                               0.800334\n",
       "Integrierte Koreastudien                                                          0.894860\n",
       "Deutsch-Französische Literatur- und Kulturstudien                                 0.905835\n",
       "Pferdewissenschaft                                                                0.976341\n",
       "Name: pctg_female, dtype: float64"
      ]
     },
     "execution_count": 11,
     "metadata": {},
     "output_type": "execute_result"
    }
   ],
   "source": [
    "df_.groupby(\"subject\").pctg_female.mean().sort_values()"
   ]
  }
 ],
 "metadata": {
  "@webio": {
   "lastCommId": "284d4d4be2384ca58f4cc0727738a8df",
   "lastKernelId": "eb0ca47f-70a0-4e66-af4b-430069bb02be"
  },
  "kernelspec": {
   "display_name": "crowdcounting",
   "language": "python",
   "name": "crowdcounting"
  },
  "language_info": {
   "codemirror_mode": {
    "name": "ipython",
    "version": 3
   },
   "file_extension": ".py",
   "mimetype": "text/x-python",
   "name": "python",
   "nbconvert_exporter": "python",
   "pygments_lexer": "ipython3",
   "version": "3.7.1"
  }
 },
 "nbformat": 4,
 "nbformat_minor": 2
}
